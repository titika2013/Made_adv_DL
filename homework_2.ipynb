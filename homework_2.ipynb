{
  "cells": [
    {
      "cell_type": "markdown",
      "metadata": {
        "id": "view-in-github",
        "colab_type": "text"
      },
      "source": [
        "<a href=\"https://colab.research.google.com/github/titika2013/Made_adv_DL/blob/main/homework_2.ipynb\" target=\"_parent\"><img src=\"https://colab.research.google.com/assets/colab-badge.svg\" alt=\"Open In Colab\"/></a>"
      ]
    },
    {
      "cell_type": "markdown",
      "metadata": {
        "id": "s0EisBlaSFpl"
      },
      "source": [
        "# Домашнее задание №2\n"
      ]
    },
    {
      "cell_type": "code",
      "execution_count": null,
      "metadata": {
        "id": "iFm6LyZESFps"
      },
      "outputs": [],
      "source": [
        "import numpy as np\n",
        "import gym\n",
        "import random\n",
        "from tqdm.notebook import tqdm\n",
        "from collections import defaultdict\n",
        "import copy\n",
        "\n",
        "import matplotlib.pyplot as plt\n",
        "\n",
        "import torch\n",
        "import torch.nn as nn\n",
        "import torch.optim as optim\n",
        "import torch.nn.functional as F\n",
        "from torch.utils.tensorboard import SummaryWriter\n",
        "from torch.autograd import Variable\n",
        "\n",
        "import seaborn as sns\n",
        "import matplotlib as mpl\n",
        "\n",
        "mpl.rcParams.update(mpl.rcParamsDefault)\n",
        "%matplotlib inline\n"
      ]
    },
    {
      "cell_type": "code",
      "execution_count": null,
      "metadata": {
        "id": "HPhoyJdMEBTi"
      },
      "outputs": [],
      "source": [
        "%%capture\n",
        "pip install latex"
      ]
    },
    {
      "cell_type": "code",
      "execution_count": null,
      "metadata": {
        "id": "BimWg6KvLVQI"
      },
      "outputs": [],
      "source": [
        "N_ROWS = 3  # @param {type:\"number\"}\n",
        "N_COLS = 3  # @param {type:\"number\"}\n",
        "N_WIN = 3  # @param {type:\"number\"}\n"
      ]
    },
    {
      "cell_type": "code",
      "execution_count": null,
      "metadata": {
        "id": "n7uCYSxOSFpv"
      },
      "outputs": [],
      "source": [
        "class TicTacToe(gym.Env):\n",
        "    def __init__(self, n_rows=N_ROWS, n_cols=N_COLS, n_win=N_WIN):\n",
        "        self.n_rows = n_rows\n",
        "        self.n_cols = n_cols\n",
        "        self.n_win = n_win\n",
        "\n",
        "        self.board = np.zeros((self.n_rows, self.n_cols), dtype=int)\n",
        "        self.gameOver = False\n",
        "        self.boardHash = None\n",
        "        # ход первого игрока\n",
        "        self.curTurn = 1\n",
        "        self.emptySpaces = None\n",
        "\n",
        "        self.reset()\n",
        "\n",
        "    def getEmptySpaces(self):\n",
        "        if self.emptySpaces is None:\n",
        "            res = np.where(self.board == 0)\n",
        "            self.emptySpaces = np.array([(i, j) for i, j in zip(res[0], res[1])])\n",
        "        return self.emptySpaces\n",
        "\n",
        "    def makeMove(self, player, i, j):\n",
        "        self.board[i, j] = player\n",
        "        self.emptySpaces = None\n",
        "        self.boardHash = None\n",
        "\n",
        "    def getHash(self):\n",
        "        if self.boardHash is None:\n",
        "            self.boardHash = ''.join(['%s' % (x + 1) for x in self.board.reshape(self.n_rows * self.n_cols)])\n",
        "        return self.boardHash\n",
        "\n",
        "    def _check_terminal(self, cur_p):\n",
        "        cur_marks = np.where(self.board == cur_p)\n",
        "        for i, j in zip(cur_marks[0], cur_marks[1]):\n",
        "            if i <= self.n_rows - self.n_win:\n",
        "                if np.all(self.board[i:i + self.n_win, j] == cur_p):\n",
        "                    return True\n",
        "            if j <= self.n_cols - self.n_win:\n",
        "                if np.all(self.board[i, j:j + self.n_win] == cur_p):\n",
        "                    return True\n",
        "            if i <= self.n_rows - self.n_win and j <= self.n_cols - self.n_win:\n",
        "                if np.all(np.array([self.board[i + k, j + k] == cur_p for k in range(self.n_win)])):\n",
        "                    return True\n",
        "            if i <= self.n_rows - self.n_win and j >= self.n_win - 1:\n",
        "                if np.all(np.array([self.board[i + k, j - k] == cur_p for k in range(self.n_win)])):\n",
        "                    return True\n",
        "        return False\n",
        "\n",
        "    def isTerminal(self):\n",
        "        # проверим, не закончилась ли игра\n",
        "        cur_win = self._check_terminal(self.curTurn)\n",
        "        if cur_win:\n",
        "            self.gameOver = True\n",
        "            return self.curTurn\n",
        "\n",
        "        if len(self.getEmptySpaces()) == 0:\n",
        "            self.gameOver = True\n",
        "            return 0\n",
        "\n",
        "        self.gameOver = False\n",
        "        return None\n",
        "\n",
        "    def getWinner(self):\n",
        "        # фактически запускаем isTerminal два раза для крестиков и ноликов\n",
        "        if self._check_terminal(1):\n",
        "            return 1\n",
        "        if self._check_terminal(-1):\n",
        "            return -1\n",
        "        if len(self.getEmptySpaces()) == 0:\n",
        "            return 0\n",
        "        return None\n",
        "\n",
        "    def printBoard(self):\n",
        "        for i in range(0, self.n_rows):\n",
        "            print('----' * (self.n_cols) + '-')\n",
        "            out = '| '\n",
        "            for j in range(0, self.n_cols):\n",
        "                if self.board[i, j] == 1:\n",
        "                    token = 'x'\n",
        "                if self.board[i, j] == -1:\n",
        "                    token = 'o'\n",
        "                if self.board[i, j] == 0:\n",
        "                    token = ' '\n",
        "                out += token + ' | '\n",
        "            print(out)\n",
        "        print('----' * (self.n_cols) + '-')\n",
        "\n",
        "    def getState(self):\n",
        "        return (self.getHash(), self.getEmptySpaces(), self.curTurn)\n",
        "\n",
        "    def action_from_int(self, action_int):\n",
        "        return (int(action_int / self.n_cols), int(action_int % self.n_cols))\n",
        "\n",
        "    def int_from_action(self, action):\n",
        "        return action[0] * self.n_cols + action[1]\n",
        "\n",
        "    def step(self, action):\n",
        "        if self.board[action[0], action[1]] != 0:\n",
        "            return self.getState(), -10, True, {}\n",
        "        self.makeMove(self.curTurn, action[0], action[1])\n",
        "        reward = self.isTerminal()\n",
        "        self.curTurn = -self.curTurn\n",
        "        return self.getState(), 0 if reward is None else reward, reward is not None, {}\n",
        "\n",
        "    def reset(self):\n",
        "        self.board = np.zeros((self.n_rows, self.n_cols), dtype=int)\n",
        "        self.boardHash = None\n",
        "        self.gameOver = False\n",
        "        self.emptySpaces = None\n",
        "        self.curTurn = 1\n"
      ]
    },
    {
      "cell_type": "code",
      "execution_count": null,
      "metadata": {
        "id": "57a2KnWsuHpD"
      },
      "outputs": [],
      "source": [
        "def plot_board(env, pi, showtext=True, verbose=True, fontq=20, fontx=60):\n",
        "    '''Рисуем доску с оценками из стратегии pi'''\n",
        "    fig, ax = plt.subplots(1, 1, figsize=(10, 10))\n",
        "    X, Y = np.meshgrid(np.arange(0, env.n_rows), np.arange(0, env.n_rows))\n",
        "    Z = np.zeros((env.n_rows, env.n_cols)) + .01\n",
        "    s, actions = env.getHash(), env.getEmptySpaces()\n",
        "    if pi is not None and s in pi.Q:\n",
        "        for i, a in enumerate(actions):\n",
        "            Z[a[0], a[1]] = pi.Q[s][i]\n",
        "    ax.set_xticks([])\n",
        "    ax.set_yticks([])\n",
        "    surf = ax.imshow(Z, cmap=plt.get_cmap('Accent', 10), vmin=-1, vmax=1)\n",
        "    if showtext:\n",
        "        for i, a in enumerate(actions):\n",
        "            if pi is not None and s in pi.Q:\n",
        "                ax.text(a[1], a[0], \"%.3f\" % pi.Q[s][i], fontsize=fontq, horizontalalignment='center',\n",
        "                        verticalalignment='center', color=\"w\")\n",
        "    for i in range(env.n_rows):\n",
        "        for j in range(env.n_cols):\n",
        "            if env.board[i, j] == -1:\n",
        "                ax.text(j, i, \"O\", fontsize=fontx, horizontalalignment='center', verticalalignment='center', color=\"w\")\n",
        "            if env.board[i, j] == 1:\n",
        "                ax.text(j, i, \"X\", fontsize=fontx, horizontalalignment='center', verticalalignment='center', color=\"w\")\n",
        "    #     cbar = plt.colorbar(surf, ticks=[0, 1])\n",
        "    ax.grid(False)\n",
        "    plt.show()\n",
        "\n",
        "\n",
        "def get_and_print_move(env, pi, s, actions, random=False, verbose=True, fontq=20, fontx=60):\n",
        "    '''Делаем ход, рисуем доску'''\n",
        "    plot_board(env, pi, fontq=fontq, fontx=fontx)\n",
        "    if verbose and (pi is not None):\n",
        "        if s in pi.Q:\n",
        "            for i, a in enumerate(actions):\n",
        "                print(i, a, pi.Q[s][i])\n",
        "        else:\n",
        "            print(\"Стратегия не знает, что делать...\")\n",
        "    if random:\n",
        "        return np.random.randint(len(actions))\n",
        "    else:\n",
        "        return pi.getActionGreedy(s, len(actions))\n"
      ]
    },
    {
      "cell_type": "code",
      "execution_count": null,
      "metadata": {
        "id": "HzGbXuK5uIcT"
      },
      "outputs": [],
      "source": [
        "def plot_test_game(env, pi1, pi2, random_crosses=False, random_naughts=True, verbose=True, fontq=20, fontx=60):\n",
        "    '''Играем тестовую партию между стратегиями или со случайными ходами, рисуем ход игры'''\n",
        "    done = False\n",
        "    env.reset()\n",
        "    while not done:\n",
        "        s, actions = env.getHash(), env.getEmptySpaces()\n",
        "        if env.curTurn == 1:\n",
        "            a = get_and_print_move(env, pi1, s, actions, random=random_crosses, verbose=verbose, fontq=fontq,\n",
        "                                   fontx=fontx)\n",
        "        else:\n",
        "            a = get_and_print_move(env, pi2, s, actions, random=random_naughts, verbose=verbose, fontq=fontq,\n",
        "                                   fontx=fontx)\n",
        "        observation, reward, done, info = env.step(actions[a])\n",
        "        if reward == 1:\n",
        "            print(\"Крестики выиграли!\")\n",
        "            plot_board(env, None, showtext=False, fontq=fontq, fontx=fontx)\n",
        "        if reward == -1:\n",
        "            print(\"Нолики выиграли!\")\n",
        "            plot_board(env, None, showtext=False, fontq=fontq, fontx=fontx)\n"
      ]
    },
    {
      "cell_type": "code",
      "source": [
        "def plot_res_results_Q(iters, crosses, zeros):\n",
        "    plt.figure(figsize=(10, 8))\n",
        "    sns.set_theme(style=\"darkgrid\")\n",
        "    # sns.lineplot(crosses, label='крестики')\n",
        "    sns.lineplot(x=iters, y=crosses, markers=True, label='крестики')\n",
        "    sns.lineplot(x=iters, y=zeros, markers=True, label='нолики')\n",
        "    plt.xlabel('Количество эпох')\n",
        "    plt.ylabel('Средняя награда')\n"
      ],
      "metadata": {
        "id": "T7E_KNCZ8Flq"
      },
      "execution_count": null,
      "outputs": []
    },
    {
      "cell_type": "markdown",
      "metadata": {
        "id": "_6YqbiF2SFpy"
      },
      "source": [
        "# Часть первая: крестики-нолики при помощи Q-обучения\n",
        "\n",
        "В коде, прилагающемся к последней лекции про обучение с подкреплением, реализован Environment для крестиков-ноликов, в котором можно при инициализации указывать разные размеры доски и условия победы, а также функции для рисования, в том числе с указанием оценки различных действий. С этим окружением все задания и связаны.\n",
        "1. Реализуйте обычное (табличное) Q-обучение. Обучите стратегии крестиков и ноликов для доски 3х3.\n",
        "2. Попробуйте обучить стратегии крестиков и ноликов для доски 4х4 и/или 5х5.\n"
      ]
    },
    {
      "cell_type": "code",
      "execution_count": null,
      "metadata": {
        "id": "GObsed1NM85d"
      },
      "outputs": [],
      "source": [
        "class Q_agent:\n",
        "    def __init__(self, env, alpha, gamma, eps):\n",
        "        self.alpha = alpha\n",
        "        self.gamma = gamma\n",
        "        self.eps = eps\n",
        "        self.Q = defaultdict(lambda: np.zeros((nrows, ncols)))\n",
        "        self.env = env\n",
        "\n",
        "    def fit(self):\n",
        "        self.env.reset()\n",
        "        done = False\n",
        "        state_x, act_x = self.env.getHash(), self.env.getEmptySpaces()\n",
        "        ax = self.choose_action(state_x, act_x)\n",
        "        obs, reward, done, _ = env.step(ax)\n",
        "        state_0, actions_0, _ = obs\n",
        "        a_0 = self.choose_action(state_0, actions_0)\n",
        "        while not done:\n",
        "            if self.env.curTurn == 1:  # crosses\n",
        "                obs, reward, done, _ = self.env.step(ax)\n",
        "                next_state_0, actions_0, _ = obs\n",
        "                if reward == 1: self.Q[state_x][tuple(ax)] = 1\n",
        "                self.Q[state_0][tuple(a_0)] += self.alpha * (\n",
        "                        - reward + self.gamma * np.max(self.Q[next_state_0]) - self.Q[state_0][tuple(a_0)]\n",
        "                )\n",
        "                if len(actions_0) > 0:\n",
        "                    next_a0 = self.choose_action(next_state_0, actions_0)\n",
        "                    state_0, a_0 = next_state_0, next_a0\n",
        "            else:\n",
        "                obs, reward, done, _ = self.env.step(a_0)\n",
        "                next_sx, act_x, _ = obs\n",
        "                if reward == -1: self.Q[state_0][tuple(a_0)] = 1\n",
        "                self.Q[state_x][tuple(ax)] += self.alpha * (reward\n",
        "                                                            + self.gamma * np.max(self.Q[next_sx])\n",
        "                                                            - self.Q[state_x][tuple(ax)])\n",
        "                if len(act_x) > 0:\n",
        "                    n_ax = self.choose_action(next_sx, act_x)\n",
        "                state_x, ax = next_sx, n_ax\n",
        "\n",
        "    def choose_action(self, state, actions):\n",
        "        if np.random.rand() > self.eps:\n",
        "            action = actions[self.Q[state][tuple(actions.T)].argmax()]\n",
        "        else:\n",
        "            action = actions[np.random.randint(0, len(actions))]\n",
        "        return action\n"
      ]
    },
    {
      "cell_type": "code",
      "execution_count": null,
      "metadata": {
        "id": "ztfHmSQqO84M"
      },
      "outputs": [],
      "source": [
        "class Train_Q:\n",
        "    def __init__(self, env, alpha, gamma, eps):\n",
        "        self.agent = Q_agent(env, alpha, gamma, eps)\n",
        "\n",
        "    def train_q(self, epoch=100, iter_per_epoch=1000, eval_iter=1000):\n",
        "        rev_x, rev_0, iters = [], [], []\n",
        "        for i in tqdm(range(epoch)):\n",
        "            for j in range(iter_per_epoch):\n",
        "                self.agent.fit()\n",
        "            rewards_x = np.mean([self.evaluate_q(player=1) for _ in range(eval_iter)])\n",
        "            rewards_0 = np.mean([self.evaluate_q(player=-1) for _ in range(eval_iter)])\n",
        "            rev_x.append(rewards_x)\n",
        "            rev_0.append(rewards_0)\n",
        "            iters.append(i)\n",
        "            if i % 10 == 0:\n",
        "                print(f\"epoch:{i}, rewards крестики = {rewards_x}, rewards нули = {rewards_0}\")\n",
        "        return self.agent.Q, rev_x, rev_0, iters\n",
        "\n",
        "    def evaluate_q(self, player=1):\n",
        "        done = False\n",
        "        self.agent.env.reset()\n",
        "        while not done:\n",
        "            # actions are simply all the empty spots \n",
        "            if self.agent.env.curTurn == player:\n",
        "                state, actions = self.agent.env.getHash(), self.agent.env.getEmptySpaces()\n",
        "                best_action = actions[self.agent.Q[state][tuple(actions.T)].argmax()]\n",
        "                observation, reward, done, _ = self.agent.env.step(best_action)\n",
        "            else:\n",
        "                state, actions = self.agent.env.getHash(), self.agent.env.getEmptySpaces()\n",
        "                best_action = actions[np.random.randint(0, len(actions))]\n",
        "                observation, reward, done, _ = self.agent.env.step(best_action)\n",
        "        return reward * player\n"
      ]
    },
    {
      "cell_type": "code",
      "execution_count": null,
      "metadata": {
        "colab": {
          "base_uri": "https://localhost:8080/",
          "height": 223,
          "referenced_widgets": [
            "3908c8dc9b3e486b9bc8252408462532",
            "1e935bb3718c49db93b77485c6b71cb3",
            "5c4db7ae20764b689ecb8e14a749fca3",
            "63c94f49a0b84f3a8a8e5afba9df6407",
            "707c7466cfde4ff797ac58500fd73077",
            "f8c0c0c29e5c467e8b813962b5f18fd8",
            "3fe3a661989c455b979681d1d8ac6849",
            "e3ab2c043e5b4621a856af47e18ad5ef",
            "a3906343f0834326bb4c306b51af3a38",
            "a39fdaff13ea443092218b462c00cba2",
            "2bfdb66c35e64ff2a602109871db9674"
          ]
        },
        "id": "K6VyRIIkjMa3",
        "outputId": "6da7c441-e5bb-4252-b907-be7ba8d8fbf2"
      },
      "outputs": [
        {
          "output_type": "display_data",
          "data": {
            "text/plain": [
              "  0%|          | 0/100 [00:00<?, ?it/s]"
            ],
            "application/vnd.jupyter.widget-view+json": {
              "version_major": 2,
              "version_minor": 0,
              "model_id": "3908c8dc9b3e486b9bc8252408462532"
            }
          },
          "metadata": {}
        },
        {
          "output_type": "stream",
          "name": "stdout",
          "text": [
            "epoch:0, rewards крестики = 0.705, rewards нули = 0.077\n",
            "epoch:10, rewards крестики = 0.693, rewards нули = 0.274\n",
            "epoch:20, rewards крестики = 0.958, rewards нули = 0.453\n",
            "epoch:30, rewards крестики = 0.983, rewards нули = 0.522\n",
            "epoch:40, rewards крестики = 0.972, rewards нули = 0.39\n",
            "epoch:50, rewards крестики = 0.98, rewards нули = 0.46\n",
            "epoch:60, rewards крестики = 0.967, rewards нули = 0.522\n",
            "epoch:70, rewards крестики = 0.94, rewards нули = 0.554\n",
            "epoch:80, rewards крестики = 0.964, rewards нули = 0.611\n",
            "epoch:90, rewards крестики = 0.975, rewards нули = 0.494\n"
          ]
        }
      ],
      "source": [
        "nrows, ncols, nwins = 3, 3, 3\n",
        "env = TicTacToe(nrows, nwins, nwins)\n",
        "train_q = Train_Q(env, alpha=.05, gamma=1., eps=.1)\n",
        "Q_3x3, rew_x, rew_0, iters = train_q.train_q(epoch=100, iter_per_epoch=1000, eval_iter=1000)\n"
      ]
    },
    {
      "cell_type": "code",
      "execution_count": null,
      "metadata": {
        "colab": {
          "base_uri": "https://localhost:8080/",
          "height": 502
        },
        "id": "rTeHH7IBfmLj",
        "outputId": "8b4b8cc4-a123-4079-e0b3-5a04b922c12c"
      },
      "outputs": [
        {
          "output_type": "display_data",
          "data": {
            "text/plain": [
              "<Figure size 720x576 with 1 Axes>"
            ],
            "image/png": "[encoded data removed]"
          },
          "metadata": {
            "needs_background": "light"
          }
        }
      ],
      "source": [
        "plot_res_results_Q(iters, rew_x, rew_0)"
      ]
    },
    {
      "cell_type": "markdown",
      "metadata": {
        "id": "rf4GIWugSFp1"
      },
      "source": [
        "### 1. Реализуйте обычное (табличное) Q-обучение. Обучите стратегии крестиков и ноликов для доски 4х4 и/или 5х5"
      ]
    },
    {
      "cell_type": "code",
      "execution_count": null,
      "metadata": {
        "colab": {
          "base_uri": "https://localhost:8080/",
          "height": 223,
          "referenced_widgets": [
            "579fcd47bcd748fbac388ebe8f3b5ea7",
            "f5492c2b21a14f2992520c5ad0ccef92",
            "960c313bbc58445a8c960d19e5bb3753",
            "ea9c42af76d847dba42a0f2cb0ff0cf9",
            "936198763f1843088feef54248298b24",
            "e36f34097a7940c4b03219902848ad1c",
            "ff7308f8fa1a470b864e9bda95b9c8b1",
            "c99912fe82e24bf18bf439ff8f8890f2",
            "d96fff8e8395433b9300fa4fd45b2b24",
            "d67b95d6bf1f44c5af4b3866fd8df264",
            "a11b8f68e55a41f6be30894b72030039"
          ]
        },
        "id": "neF_RV20nWav",
        "outputId": "3457d271-ec7f-4901-f40e-10741ac38e22"
      },
      "outputs": [
        {
          "output_type": "display_data",
          "data": {
            "text/plain": [
              "  0%|          | 0/100 [00:00<?, ?it/s]"
            ],
            "application/vnd.jupyter.widget-view+json": {
              "version_major": 2,
              "version_minor": 0,
              "model_id": "579fcd47bcd748fbac388ebe8f3b5ea7"
            }
          },
          "metadata": {}
        },
        {
          "output_type": "stream",
          "name": "stdout",
          "text": [
            "epoch:0, rewards крестики = 0.502, rewards нули = 0.292\n",
            "epoch:10, rewards крестики = 0.695, rewards нули = 0.279\n",
            "epoch:20, rewards крестики = 0.839, rewards нули = 0.378\n",
            "epoch:30, rewards крестики = 0.802, rewards нули = 0.423\n",
            "epoch:40, rewards крестики = 0.869, rewards нули = 0.445\n",
            "epoch:50, rewards крестики = 0.892, rewards нули = 0.415\n",
            "epoch:60, rewards крестики = 0.892, rewards нули = 0.487\n",
            "epoch:70, rewards крестики = 0.901, rewards нули = 0.464\n",
            "epoch:80, rewards крестики = 0.908, rewards нули = 0.54\n",
            "epoch:90, rewards крестики = 0.904, rewards нули = 0.567\n"
          ]
        }
      ],
      "source": [
        "nrows, ncols, nwins = 4, 4, 4\n",
        "env = TicTacToe(nrows, nwins, nwins)\n",
        "train_q = Train_Q(env, alpha=.05, gamma=0.99, eps=.5)\n",
        "Q_4x4, rew_x_4, rew_0_4, iters_4 = train_q.train_q(epoch=100, iter_per_epoch=20000, eval_iter=1000)"
      ]
    },
    {
      "cell_type": "code",
      "execution_count": null,
      "metadata": {
        "id": "lma8AQgyoVRI",
        "colab": {
          "base_uri": "https://localhost:8080/",
          "height": 502
        },
        "outputId": "4e1dda01-7ca9-45b1-d8de-1d71dcb41c73"
      },
      "outputs": [
        {
          "output_type": "display_data",
          "data": {
            "text/plain": [
              "<Figure size 720x576 with 1 Axes>"
            ],
            "image/png": "[encoded data removed]"
          },
          "metadata": {
            "needs_background": "light"
          }
        }
      ],
      "source": [
        "plot_res_results_Q(iters_4, rew_x_4, rew_0_4)"
      ]
    },
    {
      "cell_type": "markdown",
      "metadata": {
        "id": "MGxaKyssSFp-"
      },
      "source": [
        "# Часть вторая: добавим нейронных сетей\n",
        "\n",
        "Реализуйте нейронную сеть для метода DQN на доске для крестиков-ноликов. Не буду ограничивать фантазию, но кажется, что свёртки 3х3 здесь должны неплохо работать (в том числе обобщаться на доски размера побольше)."
      ]
    },
    {
      "cell_type": "markdown",
      "metadata": {
        "id": "YpcB5CmmSFqA"
      },
      "source": [
        "## 3. Реализуйте DQN с нейронной сетью, обучите стратегии крестиков и ноликов. Замечание: скорее всего, experience replay потребуется сразу же."
      ]
    },
    {
      "cell_type": "code",
      "execution_count": null,
      "metadata": {
        "id": "zHyiVDybhVS0"
      },
      "outputs": [],
      "source": [
        "class ReplayMemory():\n",
        "    def __init__(self, capacity):\n",
        "        self.capacity = capacity\n",
        "        self.memory = []\n",
        "        self.position = 0\n",
        "\n",
        "    def store(self, exptuple):\n",
        "        if len(self.memory) < self.capacity:\n",
        "            self.memory.append(None)\n",
        "        self.memory[self.position] = exptuple\n",
        "        self.position = (self.position + 1) % self.capacity\n",
        "\n",
        "    def sample(self, batch_size):\n",
        "        return random.sample(self.memory, batch_size)\n",
        "\n",
        "    def __len__(self):\n",
        "        return len(self.memory)\n",
        "\n",
        "\n",
        "class Network(nn.Module):\n",
        "    def __init__(self, state_dim=128, shape=3):\n",
        "        nn.Module.__init__(self)\n",
        "        self.conv_ = nn.Conv2d(3, state_dim * 2, (shape, shape))\n",
        "        self.lin_ = nn.Linear(state_dim * 2, state_dim * 2)\n",
        "        self.e = nn.Linear(state_dim * 2, shape * shape)\n",
        "\n",
        "    def forward(self, x):\n",
        "        x = F.relu(self.conv_(x))\n",
        "        x = torch.flatten(x, 1)\n",
        "        x = F.relu(self.lin_(x))\n",
        "        x = self.e(x)\n",
        "        return x"
      ]
    },
    {
      "cell_type": "code",
      "execution_count": null,
      "metadata": {
        "id": "hFBn1FgTg78K"
      },
      "outputs": [],
      "source": [
        "class DQN():\n",
        "    def __init__(self, models, n_rows=3, n_cols=3, n_win=3, gamma=0.8, lr=1e-4, weight_decay=1e-3, batch_size=256):\n",
        "        # print(n_rows)\n",
        "        self.env = TicTacToe(n_rows, n_cols, n_win)\n",
        "        self.n_rows = n_rows\n",
        "        self.n_cols = n_cols\n",
        "        self.device = torch.device(\"cuda\") if torch.cuda.is_available() else torch.device('cpu')\n",
        "        self.models = {-1: models[0].to(self.device), 1: models[1].to(self.device)}\n",
        "\n",
        "        self.memories = {-1: ReplayMemory(1000000), 1: ReplayMemory(1000000)}\n",
        "        self.optimizers = {-1: optim.Adam(self.models[-1].parameters(), lr=lr, weight_decay=weight_decay),\n",
        "                           1: optim.Adam(self.models[1].parameters(), lr=lr, weight_decay=weight_decay)}\n",
        "        self.s_prev = {-1: None, 1: None}\n",
        "        self.prev_act = {}\n",
        "        self.steps_done = 0\n",
        "        self.gamma = gamma\n",
        "        self.batch_size = batch_size\n",
        "\n",
        "        self.num_step = 0\n",
        "\n",
        "    def __state_to_tensor(self, state):\n",
        "        state_int = np.array([int(char) for char in state])\n",
        "        return torch.Tensor(np.stack([np.where(state_int==2, 1, 0).reshape(self.n_rows, self.n_rows),\n",
        "                                      np.where(state_int==0, 1, 0).reshape(self.n_rows, self.n_rows), \n",
        "                                      np.where(state_int==1, 1, 0).reshape(self.n_rows, self.n_rows)])).reshape(3, \n",
        "                                                                                                                self.n_rows,\n",
        "                                                                                                                self.n_rows)\n",
        "\n",
        "    def __select_greedy_action(self, state, cur_turn):\n",
        "        return self.models[cur_turn](state.unsqueeze(0)).data.max(1)[1].view(1, 1)\n",
        "\n",
        "    def __select_action(self, state, cur_turn):\n",
        "        sample = np.random.random()\n",
        "        self.num_step += 1\n",
        "        eps_threshold = 0.05 + (0.9 - 0.05) * np.exp(-1. * self.num_step / 100000)\n",
        "        if sample > eps_threshold:\n",
        "            return self.__select_greedy_action(state, cur_turn)\n",
        "        else:\n",
        "            return torch.tensor([[random.randrange(self.n_rows * self.n_cols)]], dtype=torch.int64)\n",
        "\n",
        "    def update(self, greedy=False):\n",
        "        self.env.reset()\n",
        "        done = False\n",
        "        self.s_prev = {-1: None, 1: None}\n",
        "        self.prev_act = {}\n",
        "        state, self.empty_spaces, cur_turn = self.env.getState()\n",
        "        while not done:\n",
        "            state_tensor = self.__state_to_tensor(state)\n",
        "            with torch.no_grad():\n",
        "                if greedy:\n",
        "                    index = self.__select_greedy_action(state_tensor.to(self.device), cur_turn).cpu()\n",
        "                else:\n",
        "                    index = self.__select_action(state_tensor.to(self.device), cur_turn).cpu()\n",
        "\n",
        "            self.s_prev[cur_turn] = state_tensor\n",
        "            self.prev_act[cur_turn] = index\n",
        "            action = self.env.action_from_int(index.numpy()[0][0])\n",
        "            (next_state, empty_spaces, next_cur_turn), reward, done, _ = self.env.step(action)\n",
        "            next_state_tensor = self.__state_to_tensor(next_state)\n",
        "\n",
        "            if done == True:\n",
        "                if reward == -10:\n",
        "                    transition = (state_tensor, index, next_state_tensor, torch.tensor([reward], dtype=torch.float32))\n",
        "                    self.memories[cur_turn].store(transition)\n",
        "                else:\n",
        "                    transition = (\n",
        "                        state_tensor, index, next_state_tensor, torch.tensor([abs(reward)], dtype=torch.float32))\n",
        "                    self.memories[cur_turn].store(transition)\n",
        "                    transition = (self.s_prev[next_cur_turn], self.prev_act[next_cur_turn], next_state_tensor,\n",
        "                                  torch.tensor([next_cur_turn * reward], dtype=torch.float32))\n",
        "                    self.memories[next_cur_turn].store(transition)\n",
        "            else:\n",
        "                if self.s_prev[next_cur_turn] is not None:\n",
        "                    transition = (self.s_prev[next_cur_turn], self.prev_act[next_cur_turn], next_state_tensor,\n",
        "                                  torch.tensor([reward * next_cur_turn], dtype=torch.float32))\n",
        "                    self.memories[next_cur_turn].store(transition)\n",
        "\n",
        "            self.act(next_cur_turn)\n",
        "\n",
        "            state = next_state\n",
        "            cur_turn = next_cur_turn\n",
        "\n",
        "    def act(self, cur_turn):\n",
        "        if np.min([len(self.memories[cur_turn]), len(self.memories[-cur_turn])]) < self.batch_size:\n",
        "            return\n",
        "\n",
        "\n",
        "        transitions = self.memories[cur_turn].sample(self.batch_size)\n",
        "        batch_state, batch_action, batch_next_state, batch_reward = zip(*transitions)\n",
        "\n",
        "        batch_state = Variable(torch.stack(batch_state).to(self.device))\n",
        "        batch_action = Variable(torch.cat(batch_action).to(self.device))\n",
        "        batch_reward = Variable(torch.cat(batch_reward).to(self.device))\n",
        "        batch_next_state = Variable(torch.stack(batch_next_state).to(self.device))\n",
        "\n",
        "        Q = self.models[cur_turn](batch_state)\n",
        "        Q = Q.gather(1, batch_action).reshape([self.batch_size])\n",
        "\n",
        "        Qmax = self.models[cur_turn](batch_next_state).detach().max(1)[0]\n",
        "        Qnext = batch_reward + (self.gamma * Qmax)\n",
        "\n",
        "        loss = F.huber_loss(Q, Qnext)\n",
        "        self.optimizers[cur_turn].zero_grad()\n",
        "        loss.backward()\n",
        "\n",
        "        self.optimizers[cur_turn].step()\n",
        "\n",
        "    def evaluate_policy(self, player, n_episodes=1000):\n",
        "        rewards = []\n",
        "        for _ in range(n_episodes):\n",
        "            self.env.reset()\n",
        "            state, empty_spaces, cur_turn = self.env.getState()\n",
        "            done = False\n",
        "            while not done:\n",
        "                if cur_turn == player:\n",
        "                    idx = self.__select_greedy_action(self.__state_to_tensor(state).to(self.device), player)\n",
        "                    action = self.env.action_from_int(idx)\n",
        "                else:\n",
        "                    idx = np.random.randint(len(empty_spaces))\n",
        "                    action = empty_spaces[idx]\n",
        "                (state, empty_spaces, cur_turn), reward, done, _ = self.env.step(action)\n",
        "            if reward != -10:\n",
        "                rewards.append(reward * player)\n",
        "            else:\n",
        "                if cur_turn == player:\n",
        "                    rewards.append(reward)\n",
        "        return np.array(rewards)\n"
      ]
    },
    {
      "cell_type": "code",
      "execution_count": null,
      "metadata": {
        "id": "2_pkM6R2qmKO"
      },
      "outputs": [],
      "source": [
        "def train_dqn(fit, epochs, period):\n",
        "      crestik_win = []\n",
        "      zero_win = [] \n",
        "      periuds = []\n",
        "      for epoch in tqdm(range(epochs)):\n",
        "            fit.update()\n",
        "            if epoch % period == 0:\n",
        "                crosses = fit.evaluate_policy(1, period)\n",
        "                zeros = fit.evaluate_policy(-1, period)\n",
        "                crestik_win.append(np.sum(crosses==1)/period)\n",
        "                zero_win.append(np.sum(zeros==1)/period)\n",
        "                periuds.append(epoch)\n",
        "      return crestik_win, zero_win, periuds"
      ]
    },
    {
      "cell_type": "code",
      "execution_count": null,
      "metadata": {
        "id": "xq8niGgIq3Pa"
      },
      "outputs": [],
      "source": [
        "def plot_res_results(crosses, zeros, periods):\n",
        "    plt.figure(figsize=(10, 8))\n",
        "    sns.set_theme(style=\"darkgrid\")\n",
        "    # sns.lineplot(crosses, label='крестики')\n",
        "    sns.lineplot(x=periods, y=crosses, markers=True, label='крестики')\n",
        "    sns.lineplot(x=periods, y=zeros, markers=True, label='нолики')\n",
        "    plt.xlabel('Количество эпох')\n",
        "    plt.ylabel('Средняя награда')"
      ]
    },
    {
      "cell_type": "markdown",
      "source": [
        "### DQN для игры 3x3"
      ],
      "metadata": {
        "id": "1R3Z62Gzhcuj"
      }
    },
    {
      "cell_type": "code",
      "execution_count": null,
      "metadata": {
        "id": "xTBqSlEn3osk",
        "colab": {
          "base_uri": "https://localhost:8080/",
          "height": 49,
          "referenced_widgets": [
            "e5cf0331239549b79a62278d60435711",
            "c8cd854ce1224ec9971d77c651c31af4",
            "f66014fbeb694c72b0a43b7b6358b162",
            "806eb6f844494607b31562b2b083ba92",
            "68e0d198ca0042c0b49f7cab1b992cbe",
            "3fb7c11427ee4a219a5bfb000876543b",
            "a36c4890efd34089b02a5bad7fd9ea8e",
            "902e2814f7154bd3ab3bbdf7376b0b02",
            "44d229b2df184b44b867dd5fd4125cc6",
            "53dcf2f51c9647b9b627389b35c804d4",
            "4fd231cb3d0a4ea18df5416715bf9521"
          ]
        },
        "outputId": "7cd8016c-2e2e-4db6-f1fc-db9977c824aa"
      },
      "outputs": [
        {
          "output_type": "display_data",
          "data": {
            "text/plain": [
              "  0%|          | 0/30000 [00:00<?, ?it/s]"
            ],
            "application/vnd.jupyter.widget-view+json": {
              "version_major": 2,
              "version_minor": 0,
              "model_id": "e5cf0331239549b79a62278d60435711"
            }
          },
          "metadata": {}
        }
      ],
      "source": [
        "net_zero = Network()\n",
        "net_x = Network()\n",
        "DQN_3x3 = DQN([net_zero, net_x], n_rows=3, n_cols=3, n_win=3)\n",
        "crosses_3, zeros_3, periods_3 = train_dqn(DQN_3x3, 30000, 1000)\n"
      ]
    },
    {
      "cell_type": "code",
      "source": [
        "plot_res_results(crosses_3, zeros_3, periods_3)"
      ],
      "metadata": {
        "colab": {
          "base_uri": "https://localhost:8080/",
          "height": 502
        },
        "id": "_sWuv-mAZGgN",
        "outputId": "c5a7382d-c2e6-4274-ccc6-9a13113ddd74"
      },
      "execution_count": null,
      "outputs": [
        {
          "output_type": "display_data",
          "data": {
            "text/plain": [
              "<Figure size 720x576 with 1 Axes>"
            ],
            "image/png": "[encoded data removed]"
          },
          "metadata": {}
        }
      ]
    },
    {
      "cell_type": "markdown",
      "source": [
        "### DQN для игры 4x4"
      ],
      "metadata": {
        "id": "6PL7rhSFiHjU"
      }
    },
    {
      "cell_type": "code",
      "source": [
        "net_zero = Network(shape=4)\n",
        "net_x = Network(shape=4)\n",
        "DQN_4x4 = DQN([net_zero, net_x], n_rows=4, n_cols=4, n_win=4)\n",
        "crosses_4, zeros_4, periods_4 = train_dqn(DQN_4x4,  30000, 1000)\n"
      ],
      "metadata": {
        "colab": {
          "base_uri": "https://localhost:8080/",
          "height": 49,
          "referenced_widgets": [
            "26c07cdc08554839a80b27c83a190d75",
            "c6bfee14cdd743fda803af36b9bcf5a5",
            "1aa19cb63dfd42c88c30ca9546d442ab",
            "a0965756a50e4a03b0af061f5909df28",
            "83196b2ee98e4af6a50f963e1aa48d36",
            "f8cd74bfb94e48c6a59f7f707fa7b5ec",
            "f8ad087196f14b9483a07dab5a21a802",
            "b3b8be041a884a598b508325e107e14c",
            "6cfdc1e5fc4645fca5d0ca4b378f4c27",
            "248af3cb99b540478ff3e974bb189488",
            "e051ceba191a409487af4ca28d5ed476"
          ]
        },
        "id": "bGguCBJWiKGD",
        "outputId": "7d15617a-c6a4-4fa1-fae9-ec4f147bb083"
      },
      "execution_count": null,
      "outputs": [
        {
          "output_type": "display_data",
          "data": {
            "text/plain": [
              "  0%|          | 0/30000 [00:00<?, ?it/s]"
            ],
            "application/vnd.jupyter.widget-view+json": {
              "version_major": 2,
              "version_minor": 0,
              "model_id": "26c07cdc08554839a80b27c83a190d75"
            }
          },
          "metadata": {}
        }
      ]
    },
    {
      "cell_type": "code",
      "source": [
        "plot_res_results(crosses_4, zeros_4, periods_4)"
      ],
      "metadata": {
        "colab": {
          "base_uri": "https://localhost:8080/",
          "height": 502
        },
        "id": "qCrs1NF3ZIGM",
        "outputId": "77308a8d-5d8d-4e66-c6a4-458fc91dba0c"
      },
      "execution_count": null,
      "outputs": [
        {
          "output_type": "display_data",
          "data": {
            "text/plain": [
              "<Figure size 720x576 with 1 Axes>"
            ],
            "image/png": "[encoded data removed]"
          },
          "metadata": {}
        }
      ]
    },
    {
      "cell_type": "markdown",
      "metadata": {
        "id": "c3c9zW6VSFqF"
      },
      "source": [
        "## 4. Реализуйте Double DQN и/или Dueling DQN."
      ]
    },
    {
      "cell_type": "code",
      "source": [
        "class dueling_network(nn.Module):\n",
        "    def __init__(self, state_dim=128, shape=3):\n",
        "        nn.Module.__init__(self)\n",
        "        self.conv_ = nn.Conv2d(3, state_dim * 2, (shape, shape))\n",
        "        self.lin_ = nn.Linear(state_dim * 2, state_dim * 2)\n",
        "        self.lin_2 = nn.Linear(state_dim * 2, 1)\n",
        "        self.e = nn.Linear(state_dim * 2, shape * shape)\n",
        "\n",
        "    def forward(self, x):\n",
        "        x = F.relu(self.conv_(x))\n",
        "        x = torch.flatten(x, 1)\n",
        "        x = F.relu(self.lin_(x))\n",
        "        l = self.lin_2(x)\n",
        "        e = self.e(x)\n",
        "        qvals = l + (e - e.mean(dim=1, keepdim=True))\n",
        "        return qvals"
      ],
      "metadata": {
        "id": "vvqsMMBb8eWt"
      },
      "execution_count": null,
      "outputs": []
    },
    {
      "cell_type": "markdown",
      "source": [
        "### Dueling DQN для игры 3x3\n"
      ],
      "metadata": {
        "id": "Pn9C5JCrhi1R"
      }
    },
    {
      "cell_type": "code",
      "source": [
        "nn_zeros = dueling_network(shape=3)\n",
        "nn_crosses = dueling_network(shape=3)\n",
        "DNQ_3x3 = DQN([nn_zeros, nn_crosses], 3, 3, 3)\n",
        "d_crosses_3, d_zeros_3, periods_d_3 = train_dqn(DNQ_3x3,  30000, 1000)"
      ],
      "metadata": {
        "id": "pwv0rgg5LIhG",
        "colab": {
          "base_uri": "https://localhost:8080/",
          "height": 49,
          "referenced_widgets": [
            "a6ebc68d32954104b4f65a05a91ac682",
            "75fa4f926aa1450db118f68eee00215f",
            "1ca684ded75f4125bf180f240d42ba78",
            "f70def2940724d37ac646faa72c25188",
            "bd3178337295478791d5f94d9bc4949b",
            "c41951b39521490a97165b3afa1a2518",
            "09810c58b00e445ab6be5091b50bb4dd",
            "e783022a6afd4aef8b81b0ba1102a775",
            "7aa2bee407af4dac900b8f09ebe9be73",
            "8824fb8ce26a4dc0ab86eb38205dbc7c",
            "8c49876ceb214d669c58217c33fc45a7"
          ]
        },
        "outputId": "0e89c8c4-dfbb-4939-a403-f53a760f25b6"
      },
      "execution_count": null,
      "outputs": [
        {
          "output_type": "display_data",
          "data": {
            "text/plain": [
              "  0%|          | 0/30000 [00:00<?, ?it/s]"
            ],
            "application/vnd.jupyter.widget-view+json": {
              "version_major": 2,
              "version_minor": 0,
              "model_id": "a6ebc68d32954104b4f65a05a91ac682"
            }
          },
          "metadata": {}
        }
      ]
    },
    {
      "cell_type": "code",
      "source": [
        "plot_res_results(d_crosses_3, d_zeros_3, periods_d_3)"
      ],
      "metadata": {
        "colab": {
          "base_uri": "https://localhost:8080/",
          "height": 502
        },
        "id": "t7k8RSdWZJXS",
        "outputId": "c8e53f80-8b00-44af-d04c-b9f66e2f33d0"
      },
      "execution_count": null,
      "outputs": [
        {
          "output_type": "display_data",
          "data": {
            "text/plain": [
              "<Figure size 720x576 with 1 Axes>"
            ],
            "image/png": "[encoded data removed]"
          },
          "metadata": {}
        }
      ]
    },
    {
      "cell_type": "markdown",
      "source": [
        "### Dueling DQN для игры 4x4"
      ],
      "metadata": {
        "id": "Y6QDw1qYhqUO"
      }
    },
    {
      "cell_type": "code",
      "source": [
        "nn_zeros = dueling_network(shape = 4)\n",
        "nn_crosses = dueling_network(shape = 4)\n",
        "DNQ_4x4 = DQN([nn_zeros, nn_crosses], 4, 4, 4)\n",
        "d_crosses_4, d_zeros_4, periods_d_4 = train_dqn(DNQ_4x4,  30000, 1000)\n"
      ],
      "metadata": {
        "colab": {
          "base_uri": "https://localhost:8080/",
          "height": 49,
          "referenced_widgets": [
            "eab8be3d2a8b49f39746c0ed85199c60",
            "0dad0c3296664294afaa9c3519bb939f",
            "193217bc70704539bd07dab6eedd63b7",
            "395aa089c1864783ab141b7afadf0255",
            "7836e702623d4663924e96ab32180b89",
            "9f0b45ec9fc84530b9ced87a1bc1a5a6",
            "0333568876c746a9a37729aea274e39b",
            "ca4f1259105544fcb1c5ee2813ff65a4",
            "6d86d181faa64cf4adb432e197ca17b9",
            "04e87673ca3d4937b0a8f6cf3102f16c",
            "8d57ccc57e7f4c0da87a0b63405d9515"
          ]
        },
        "id": "BbYmsKjdhtil",
        "outputId": "7aa71f42-b13c-433f-fe02-6d6dfcc6c14c"
      },
      "execution_count": null,
      "outputs": [
        {
          "output_type": "display_data",
          "data": {
            "text/plain": [
              "  0%|          | 0/30000 [00:00<?, ?it/s]"
            ],
            "application/vnd.jupyter.widget-view+json": {
              "version_major": 2,
              "version_minor": 0,
              "model_id": "eab8be3d2a8b49f39746c0ed85199c60"
            }
          },
          "metadata": {}
        }
      ]
    },
    {
      "cell_type": "code",
      "source": [
        "plot_res_results(d_crosses_4, d_zeros_4, periods_d_4)"
      ],
      "metadata": {
        "colab": {
          "base_uri": "https://localhost:8080/",
          "height": 502
        },
        "id": "GwDPPCMIZKM9",
        "outputId": "76afcedf-b34f-4285-bce5-1d894d49027c"
      },
      "execution_count": null,
      "outputs": [
        {
          "output_type": "display_data",
          "data": {
            "text/plain": [
              "<Figure size 720x576 with 1 Axes>"
            ],
            "image/png": "[encoded data removed]"
          },
          "metadata": {}
        }
      ]
    },
    {
      "cell_type": "markdown",
      "metadata": {
        "id": "E1ED7sM3SFqI"
      },
      "source": [
        "# Часть третья: "
      ]
    },
    {
      "cell_type": "code",
      "source": [],
      "metadata": {
        "id": "GgG4bQGRSmLL"
      },
      "execution_count": null,
      "outputs": []
    }
  ],
  "metadata": {
    "colab": {
      "provenance": [],
      "include_colab_link": true
    },
    "gpuClass": "standard",
    "kernelspec": {
      "display_name": "Python 3",
      "language": "python",
      "name": "python3"
    },
    "language_info": {
      "codemirror_mode": {
        "name": "ipython",
        "version": 3
      },
      "file_extension": ".py",
      "mimetype": "text/x-python",
      "name": "python",
      "nbconvert_exporter": "python",
      "pygments_lexer": "ipython3",
      "version": "3.8.5"
    },
    "widgets": {
      "application/vnd.jupyter.widget-state+json": {
        "3908c8dc9b3e486b9bc8252408462532": {
          "model_module": "@jupyter-widgets/controls",
          "model_name": "HBoxModel",
          "model_module_version": "1.5.0",
          "state": {
            "_dom_classes": [],
            "_model_module": "@jupyter-widgets/controls",
            "_model_module_version": "1.5.0",
            "_model_name": "HBoxModel",
            "_view_count": null,
            "_view_module": "@jupyter-widgets/controls",
            "_view_module_version": "1.5.0",
            "_view_name": "HBoxView",
            "box_style": "",
            "children": [
              "IPY_MODEL_1e935bb3718c49db93b77485c6b71cb3",
              "IPY_MODEL_5c4db7ae20764b689ecb8e14a749fca3",
              "IPY_MODEL_63c94f49a0b84f3a8a8e5afba9df6407"
            ],
            "layout": "IPY_MODEL_707c7466cfde4ff797ac58500fd73077"
          }
        },
        "1e935bb3718c49db93b77485c6b71cb3": {
          "model_module": "@jupyter-widgets/controls",
          "model_name": "HTMLModel",
          "model_module_version": "1.5.0",
          "state": {
            "_dom_classes": [],
            "_model_module": "@jupyter-widgets/controls",
            "_model_module_version": "1.5.0",
            "_model_name": "HTMLModel",
            "_view_count": null,
            "_view_module": "@jupyter-widgets/controls",
            "_view_module_version": "1.5.0",
            "_view_name": "HTMLView",
            "description": "",
            "description_tooltip": null,
            "layout": "IPY_MODEL_f8c0c0c29e5c467e8b813962b5f18fd8",
            "placeholder": "​",
            "style": "IPY_MODEL_3fe3a661989c455b979681d1d8ac6849",
            "value": "100%"
          }
        },
        "5c4db7ae20764b689ecb8e14a749fca3": {
          "model_module": "@jupyter-widgets/controls",
          "model_name": "FloatProgressModel",
          "model_module_version": "1.5.0",
          "state": {
            "_dom_classes": [],
            "_model_module": "@jupyter-widgets/controls",
            "_model_module_version": "1.5.0",
            "_model_name": "FloatProgressModel",
            "_view_count": null,
            "_view_module": "@jupyter-widgets/controls",
            "_view_module_version": "1.5.0",
            "_view_name": "ProgressView",
            "bar_style": "success",
            "description": "",
            "description_tooltip": null,
            "layout": "IPY_MODEL_e3ab2c043e5b4621a856af47e18ad5ef",
            "max": 100,
            "min": 0,
            "orientation": "horizontal",
            "style": "IPY_MODEL_a3906343f0834326bb4c306b51af3a38",
            "value": 100
          }
        },
        "63c94f49a0b84f3a8a8e5afba9df6407": {
          "model_module": "@jupyter-widgets/controls",
          "model_name": "HTMLModel",
          "model_module_version": "1.5.0",
          "state": {
            "_dom_classes": [],
            "_model_module": "@jupyter-widgets/controls",
            "_model_module_version": "1.5.0",
            "_model_name": "HTMLModel",
            "_view_count": null,
            "_view_module": "@jupyter-widgets/controls",
            "_view_module_version": "1.5.0",
            "_view_name": "HTMLView",
            "description": "",
            "description_tooltip": null,
            "layout": "IPY_MODEL_a39fdaff13ea443092218b462c00cba2",
            "placeholder": "​",
            "style": "IPY_MODEL_2bfdb66c35e64ff2a602109871db9674",
            "value": " 100/100 [02:23&lt;00:00,  1.18s/it]"
          }
        },
        "707c7466cfde4ff797ac58500fd73077": {
          "model_module": "@jupyter-widgets/base",
          "model_name": "LayoutModel",
          "model_module_version": "1.2.0",
          "state": {
            "_model_module": "@jupyter-widgets/base",
            "_model_module_version": "1.2.0",
            "_model_name": "LayoutModel",
            "_view_count": null,
            "_view_module": "@jupyter-widgets/base",
            "_view_module_version": "1.2.0",
            "_view_name": "LayoutView",
            "align_content": null,
            "align_items": null,
            "align_self": null,
            "border": null,
            "bottom": null,
            "display": null,
            "flex": null,
            "flex_flow": null,
            "grid_area": null,
            "grid_auto_columns": null,
            "grid_auto_flow": null,
            "grid_auto_rows": null,
            "grid_column": null,
            "grid_gap": null,
            "grid_row": null,
            "grid_template_areas": null,
            "grid_template_columns": null,
            "grid_template_rows": null,
            "height": null,
            "justify_content": null,
            "justify_items": null,
            "left": null,
            "margin": null,
            "max_height": null,
            "max_width": null,
            "min_height": null,
            "min_width": null,
            "object_fit": null,
            "object_position": null,
            "order": null,
            "overflow": null,
            "overflow_x": null,
            "overflow_y": null,
            "padding": null,
            "right": null,
            "top": null,
            "visibility": null,
            "width": null
          }
        },
        "f8c0c0c29e5c467e8b813962b5f18fd8": {
          "model_module": "@jupyter-widgets/base",
          "model_name": "LayoutModel",
          "model_module_version": "1.2.0",
          "state": {
            "_model_module": "@jupyter-widgets/base",
            "_model_module_version": "1.2.0",
            "_model_name": "LayoutModel",
            "_view_count": null,
            "_view_module": "@jupyter-widgets/base",
            "_view_module_version": "1.2.0",
            "_view_name": "LayoutView",
            "align_content": null,
            "align_items": null,
            "align_self": null,
            "border": null,
            "bottom": null,
            "display": null,
            "flex": null,
            "flex_flow": null,
            "grid_area": null,
            "grid_auto_columns": null,
            "grid_auto_flow": null,
            "grid_auto_rows": null,
            "grid_column": null,
            "grid_gap": null,
            "grid_row": null,
            "grid_template_areas": null,
            "grid_template_columns": null,
            "grid_template_rows": null,
            "height": null,
            "justify_content": null,
            "justify_items": null,
            "left": null,
            "margin": null,
            "max_height": null,
            "max_width": null,
            "min_height": null,
            "min_width": null,
            "object_fit": null,
            "object_position": null,
            "order": null,
            "overflow": null,
            "overflow_x": null,
            "overflow_y": null,
            "padding": null,
            "right": null,
            "top": null,
            "visibility": null,
            "width": null
          }
        },
        "3fe3a661989c455b979681d1d8ac6849": {
          "model_module": "@jupyter-widgets/controls",
          "model_name": "DescriptionStyleModel",
          "model_module_version": "1.5.0",
          "state": {
            "_model_module": "@jupyter-widgets/controls",
            "_model_module_version": "1.5.0",
            "_model_name": "DescriptionStyleModel",
            "_view_count": null,
            "_view_module": "@jupyter-widgets/base",
            "_view_module_version": "1.2.0",
            "_view_name": "StyleView",
            "description_width": ""
          }
        },
        "e3ab2c043e5b4621a856af47e18ad5ef": {
          "model_module": "@jupyter-widgets/base",
          "model_name": "LayoutModel",
          "model_module_version": "1.2.0",
          "state": {
            "_model_module": "@jupyter-widgets/base",
            "_model_module_version": "1.2.0",
            "_model_name": "LayoutModel",
            "_view_count": null,
            "_view_module": "@jupyter-widgets/base",
            "_view_module_version": "1.2.0",
            "_view_name": "LayoutView",
            "align_content": null,
            "align_items": null,
            "align_self": null,
            "border": null,
            "bottom": null,
            "display": null,
            "flex": null,
            "flex_flow": null,
            "grid_area": null,
            "grid_auto_columns": null,
            "grid_auto_flow": null,
            "grid_auto_rows": null,
            "grid_column": null,
            "grid_gap": null,
            "grid_row": null,
            "grid_template_areas": null,
            "grid_template_columns": null,
            "grid_template_rows": null,
            "height": null,
            "justify_content": null,
            "justify_items": null,
            "left": null,
            "margin": null,
            "max_height": null,
            "max_width": null,
            "min_height": null,
            "min_width": null,
            "object_fit": null,
            "object_position": null,
            "order": null,
            "overflow": null,
            "overflow_x": null,
            "overflow_y": null,
            "padding": null,
            "right": null,
            "top": null,
            "visibility": null,
            "width": null
          }
        },
        "a3906343f0834326bb4c306b51af3a38": {
          "model_module": "@jupyter-widgets/controls",
          "model_name": "ProgressStyleModel",
          "model_module_version": "1.5.0",
          "state": {
            "_model_module": "@jupyter-widgets/controls",
            "_model_module_version": "1.5.0",
            "_model_name": "ProgressStyleModel",
            "_view_count": null,
            "_view_module": "@jupyter-widgets/base",
            "_view_module_version": "1.2.0",
            "_view_name": "StyleView",
            "bar_color": null,
            "description_width": ""
          }
        },
        "a39fdaff13ea443092218b462c00cba2": {
          "model_module": "@jupyter-widgets/base",
          "model_name": "LayoutModel",
          "model_module_version": "1.2.0",
          "state": {
            "_model_module": "@jupyter-widgets/base",
            "_model_module_version": "1.2.0",
            "_model_name": "LayoutModel",
            "_view_count": null,
            "_view_module": "@jupyter-widgets/base",
            "_view_module_version": "1.2.0",
            "_view_name": "LayoutView",
            "align_content": null,
            "align_items": null,
            "align_self": null,
            "border": null,
            "bottom": null,
            "display": null,
            "flex": null,
            "flex_flow": null,
            "grid_area": null,
            "grid_auto_columns": null,
            "grid_auto_flow": null,
            "grid_auto_rows": null,
            "grid_column": null,
            "grid_gap": null,
            "grid_row": null,
            "grid_template_areas": null,
            "grid_template_columns": null,
            "grid_template_rows": null,
            "height": null,
            "justify_content": null,
            "justify_items": null,
            "left": null,
            "margin": null,
            "max_height": null,
            "max_width": null,
            "min_height": null,
            "min_width": null,
            "object_fit": null,
            "object_position": null,
            "order": null,
            "overflow": null,
            "overflow_x": null,
            "overflow_y": null,
            "padding": null,
            "right": null,
            "top": null,
            "visibility": null,
            "width": null
          }
        },
        "2bfdb66c35e64ff2a602109871db9674": {
          "model_module": "@jupyter-widgets/controls",
          "model_name": "DescriptionStyleModel",
          "model_module_version": "1.5.0",
          "state": {
            "_model_module": "@jupyter-widgets/controls",
            "_model_module_version": "1.5.0",
            "_model_name": "DescriptionStyleModel",
            "_view_count": null,
            "_view_module": "@jupyter-widgets/base",
            "_view_module_version": "1.2.0",
            "_view_name": "StyleView",
            "description_width": ""
          }
        },
        "579fcd47bcd748fbac388ebe8f3b5ea7": {
          "model_module": "@jupyter-widgets/controls",
          "model_name": "HBoxModel",
          "model_module_version": "1.5.0",
          "state": {
            "_dom_classes": [],
            "_model_module": "@jupyter-widgets/controls",
            "_model_module_version": "1.5.0",
            "_model_name": "HBoxModel",
            "_view_count": null,
            "_view_module": "@jupyter-widgets/controls",
            "_view_module_version": "1.5.0",
            "_view_name": "HBoxView",
            "box_style": "",
            "children": [
              "IPY_MODEL_f5492c2b21a14f2992520c5ad0ccef92",
              "IPY_MODEL_960c313bbc58445a8c960d19e5bb3753",
              "IPY_MODEL_ea9c42af76d847dba42a0f2cb0ff0cf9"
            ],
            "layout": "IPY_MODEL_936198763f1843088feef54248298b24"
          }
        },
        "f5492c2b21a14f2992520c5ad0ccef92": {
          "model_module": "@jupyter-widgets/controls",
          "model_name": "HTMLModel",
          "model_module_version": "1.5.0",
          "state": {
            "_dom_classes": [],
            "_model_module": "@jupyter-widgets/controls",
            "_model_module_version": "1.5.0",
            "_model_name": "HTMLModel",
            "_view_count": null,
            "_view_module": "@jupyter-widgets/controls",
            "_view_module_version": "1.5.0",
            "_view_name": "HTMLView",
            "description": "",
            "description_tooltip": null,
            "layout": "IPY_MODEL_e36f34097a7940c4b03219902848ad1c",
            "placeholder": "​",
            "style": "IPY_MODEL_ff7308f8fa1a470b864e9bda95b9c8b1",
            "value": "100%"
          }
        },
        "960c313bbc58445a8c960d19e5bb3753": {
          "model_module": "@jupyter-widgets/controls",
          "model_name": "FloatProgressModel",
          "model_module_version": "1.5.0",
          "state": {
            "_dom_classes": [],
            "_model_module": "@jupyter-widgets/controls",
            "_model_module_version": "1.5.0",
            "_model_name": "FloatProgressModel",
            "_view_count": null,
            "_view_module": "@jupyter-widgets/controls",
            "_view_module_version": "1.5.0",
            "_view_name": "ProgressView",
            "bar_style": "success",
            "description": "",
            "description_tooltip": null,
            "layout": "IPY_MODEL_c99912fe82e24bf18bf439ff8f8890f2",
            "max": 100,
            "min": 0,
            "orientation": "horizontal",
            "style": "IPY_MODEL_d96fff8e8395433b9300fa4fd45b2b24",
            "value": 100
          }
        },
        "ea9c42af76d847dba42a0f2cb0ff0cf9": {
          "model_module": "@jupyter-widgets/controls",
          "model_name": "HTMLModel",
          "model_module_version": "1.5.0",
          "state": {
            "_dom_classes": [],
            "_model_module": "@jupyter-widgets/controls",
            "_model_module_version": "1.5.0",
            "_model_name": "HTMLModel",
            "_view_count": null,
            "_view_module": "@jupyter-widgets/controls",
            "_view_module_version": "1.5.0",
            "_view_name": "HTMLView",
            "description": "",
            "description_tooltip": null,
            "layout": "IPY_MODEL_d67b95d6bf1f44c5af4b3866fd8df264",
            "placeholder": "​",
            "style": "IPY_MODEL_a11b8f68e55a41f6be30894b72030039",
            "value": " 100/100 [52:54&lt;00:00, 31.83s/it]"
          }
        },
        "936198763f1843088feef54248298b24": {
          "model_module": "@jupyter-widgets/base",
          "model_name": "LayoutModel",
          "model_module_version": "1.2.0",
          "state": {
            "_model_module": "@jupyter-widgets/base",
            "_model_module_version": "1.2.0",
            "_model_name": "LayoutModel",
            "_view_count": null,
            "_view_module": "@jupyter-widgets/base",
            "_view_module_version": "1.2.0",
            "_view_name": "LayoutView",
            "align_content": null,
            "align_items": null,
            "align_self": null,
            "border": null,
            "bottom": null,
            "display": null,
            "flex": null,
            "flex_flow": null,
            "grid_area": null,
            "grid_auto_columns": null,
            "grid_auto_flow": null,
            "grid_auto_rows": null,
            "grid_column": null,
            "grid_gap": null,
            "grid_row": null,
            "grid_template_areas": null,
            "grid_template_columns": null,
            "grid_template_rows": null,
            "height": null,
            "justify_content": null,
            "justify_items": null,
            "left": null,
            "margin": null,
            "max_height": null,
            "max_width": null,
            "min_height": null,
            "min_width": null,
            "object_fit": null,
            "object_position": null,
            "order": null,
            "overflow": null,
            "overflow_x": null,
            "overflow_y": null,
            "padding": null,
            "right": null,
            "top": null,
            "visibility": null,
            "width": null
          }
        },
        "e36f34097a7940c4b03219902848ad1c": {
          "model_module": "@jupyter-widgets/base",
          "model_name": "LayoutModel",
          "model_module_version": "1.2.0",
          "state": {
            "_model_module": "@jupyter-widgets/base",
            "_model_module_version": "1.2.0",
            "_model_name": "LayoutModel",
            "_view_count": null,
            "_view_module": "@jupyter-widgets/base",
            "_view_module_version": "1.2.0",
            "_view_name": "LayoutView",
            "align_content": null,
            "align_items": null,
            "align_self": null,
            "border": null,
            "bottom": null,
            "display": null,
            "flex": null,
            "flex_flow": null,
            "grid_area": null,
            "grid_auto_columns": null,
            "grid_auto_flow": null,
            "grid_auto_rows": null,
            "grid_column": null,
            "grid_gap": null,
            "grid_row": null,
            "grid_template_areas": null,
            "grid_template_columns": null,
            "grid_template_rows": null,
            "height": null,
            "justify_content": null,
            "justify_items": null,
            "left": null,
            "margin": null,
            "max_height": null,
            "max_width": null,
            "min_height": null,
            "min_width": null,
            "object_fit": null,
            "object_position": null,
            "order": null,
            "overflow": null,
            "overflow_x": null,
            "overflow_y": null,
            "padding": null,
            "right": null,
            "top": null,
            "visibility": null,
            "width": null
          }
        },
        "ff7308f8fa1a470b864e9bda95b9c8b1": {
          "model_module": "@jupyter-widgets/controls",
          "model_name": "DescriptionStyleModel",
          "model_module_version": "1.5.0",
          "state": {
            "_model_module": "@jupyter-widgets/controls",
            "_model_module_version": "1.5.0",
            "_model_name": "DescriptionStyleModel",
            "_view_count": null,
            "_view_module": "@jupyter-widgets/base",
            "_view_module_version": "1.2.0",
            "_view_name": "StyleView",
            "description_width": ""
          }
        },
        "c99912fe82e24bf18bf439ff8f8890f2": {
          "model_module": "@jupyter-widgets/base",
          "model_name": "LayoutModel",
          "model_module_version": "1.2.0",
          "state": {
            "_model_module": "@jupyter-widgets/base",
            "_model_module_version": "1.2.0",
            "_model_name": "LayoutModel",
            "_view_count": null,
            "_view_module": "@jupyter-widgets/base",
            "_view_module_version": "1.2.0",
            "_view_name": "LayoutView",
            "align_content": null,
            "align_items": null,
            "align_self": null,
            "border": null,
            "bottom": null,
            "display": null,
            "flex": null,
            "flex_flow": null,
            "grid_area": null,
            "grid_auto_columns": null,
            "grid_auto_flow": null,
            "grid_auto_rows": null,
            "grid_column": null,
            "grid_gap": null,
            "grid_row": null,
            "grid_template_areas": null,
            "grid_template_columns": null,
            "grid_template_rows": null,
            "height": null,
            "justify_content": null,
            "justify_items": null,
            "left": null,
            "margin": null,
            "max_height": null,
            "max_width": null,
            "min_height": null,
            "min_width": null,
            "object_fit": null,
            "object_position": null,
            "order": null,
            "overflow": null,
            "overflow_x": null,
            "overflow_y": null,
            "padding": null,
            "right": null,
            "top": null,
            "visibility": null,
            "width": null
          }
        },
        "d96fff8e8395433b9300fa4fd45b2b24": {
          "model_module": "@jupyter-widgets/controls",
          "model_name": "ProgressStyleModel",
          "model_module_version": "1.5.0",
          "state": {
            "_model_module": "@jupyter-widgets/controls",
            "_model_module_version": "1.5.0",
            "_model_name": "ProgressStyleModel",
            "_view_count": null,
            "_view_module": "@jupyter-widgets/base",
            "_view_module_version": "1.2.0",
            "_view_name": "StyleView",
            "bar_color": null,
            "description_width": ""
          }
        },
        "d67b95d6bf1f44c5af4b3866fd8df264": {
          "model_module": "@jupyter-widgets/base",
          "model_name": "LayoutModel",
          "model_module_version": "1.2.0",
          "state": {
            "_model_module": "@jupyter-widgets/base",
            "_model_module_version": "1.2.0",
            "_model_name": "LayoutModel",
            "_view_count": null,
            "_view_module": "@jupyter-widgets/base",
            "_view_module_version": "1.2.0",
            "_view_name": "LayoutView",
            "align_content": null,
            "align_items": null,
            "align_self": null,
            "border": null,
            "bottom": null,
            "display": null,
            "flex": null,
            "flex_flow": null,
            "grid_area": null,
            "grid_auto_columns": null,
            "grid_auto_flow": null,
            "grid_auto_rows": null,
            "grid_column": null,
            "grid_gap": null,
            "grid_row": null,
            "grid_template_areas": null,
            "grid_template_columns": null,
            "grid_template_rows": null,
            "height": null,
            "justify_content": null,
            "justify_items": null,
            "left": null,
            "margin": null,
            "max_height": null,
            "max_width": null,
            "min_height": null,
            "min_width": null,
            "object_fit": null,
            "object_position": null,
            "order": null,
            "overflow": null,
            "overflow_x": null,
            "overflow_y": null,
            "padding": null,
            "right": null,
            "top": null,
            "visibility": null,
            "width": null
          }
        },
        "a11b8f68e55a41f6be30894b72030039": {
          "model_module": "@jupyter-widgets/controls",
          "model_name": "DescriptionStyleModel",
          "model_module_version": "1.5.0",
          "state": {
            "_model_module": "@jupyter-widgets/controls",
            "_model_module_version": "1.5.0",
            "_model_name": "DescriptionStyleModel",
            "_view_count": null,
            "_view_module": "@jupyter-widgets/base",
            "_view_module_version": "1.2.0",
            "_view_name": "StyleView",
            "description_width": ""
          }
        },
        "e5cf0331239549b79a62278d60435711": {
          "model_module": "@jupyter-widgets/controls",
          "model_name": "HBoxModel",
          "model_module_version": "1.5.0",
          "state": {
            "_dom_classes": [],
            "_model_module": "@jupyter-widgets/controls",
            "_model_module_version": "1.5.0",
            "_model_name": "HBoxModel",
            "_view_count": null,
            "_view_module": "@jupyter-widgets/controls",
            "_view_module_version": "1.5.0",
            "_view_name": "HBoxView",
            "box_style": "",
            "children": [
              "IPY_MODEL_c8cd854ce1224ec9971d77c651c31af4",
              "IPY_MODEL_f66014fbeb694c72b0a43b7b6358b162",
              "IPY_MODEL_806eb6f844494607b31562b2b083ba92"
            ],
            "layout": "IPY_MODEL_68e0d198ca0042c0b49f7cab1b992cbe"
          }
        },
        "c8cd854ce1224ec9971d77c651c31af4": {
          "model_module": "@jupyter-widgets/controls",
          "model_name": "HTMLModel",
          "model_module_version": "1.5.0",
          "state": {
            "_dom_classes": [],
            "_model_module": "@jupyter-widgets/controls",
            "_model_module_version": "1.5.0",
            "_model_name": "HTMLModel",
            "_view_count": null,
            "_view_module": "@jupyter-widgets/controls",
            "_view_module_version": "1.5.0",
            "_view_name": "HTMLView",
            "description": "",
            "description_tooltip": null,
            "layout": "IPY_MODEL_3fb7c11427ee4a219a5bfb000876543b",
            "placeholder": "​",
            "style": "IPY_MODEL_a36c4890efd34089b02a5bad7fd9ea8e",
            "value": "100%"
          }
        },
        "f66014fbeb694c72b0a43b7b6358b162": {
          "model_module": "@jupyter-widgets/controls",
          "model_name": "FloatProgressModel",
          "model_module_version": "1.5.0",
          "state": {
            "_dom_classes": [],
            "_model_module": "@jupyter-widgets/controls",
            "_model_module_version": "1.5.0",
            "_model_name": "FloatProgressModel",
            "_view_count": null,
            "_view_module": "@jupyter-widgets/controls",
            "_view_module_version": "1.5.0",
            "_view_name": "ProgressView",
            "bar_style": "success",
            "description": "",
            "description_tooltip": null,
            "layout": "IPY_MODEL_902e2814f7154bd3ab3bbdf7376b0b02",
            "max": 30000,
            "min": 0,
            "orientation": "horizontal",
            "style": "IPY_MODEL_44d229b2df184b44b867dd5fd4125cc6",
            "value": 30000
          }
        },
        "806eb6f844494607b31562b2b083ba92": {
          "model_module": "@jupyter-widgets/controls",
          "model_name": "HTMLModel",
          "model_module_version": "1.5.0",
          "state": {
            "_dom_classes": [],
            "_model_module": "@jupyter-widgets/controls",
            "_model_module_version": "1.5.0",
            "_model_name": "HTMLModel",
            "_view_count": null,
            "_view_module": "@jupyter-widgets/controls",
            "_view_module_version": "1.5.0",
            "_view_name": "HTMLView",
            "description": "",
            "description_tooltip": null,
            "layout": "IPY_MODEL_53dcf2f51c9647b9b627389b35c804d4",
            "placeholder": "​",
            "style": "IPY_MODEL_4fd231cb3d0a4ea18df5416715bf9521",
            "value": " 30000/30000 [13:16&lt;00:00, 40.27it/s]"
          }
        },
        "68e0d198ca0042c0b49f7cab1b992cbe": {
          "model_module": "@jupyter-widgets/base",
          "model_name": "LayoutModel",
          "model_module_version": "1.2.0",
          "state": {
            "_model_module": "@jupyter-widgets/base",
            "_model_module_version": "1.2.0",
            "_model_name": "LayoutModel",
            "_view_count": null,
            "_view_module": "@jupyter-widgets/base",
            "_view_module_version": "1.2.0",
            "_view_name": "LayoutView",
            "align_content": null,
            "align_items": null,
            "align_self": null,
            "border": null,
            "bottom": null,
            "display": null,
            "flex": null,
            "flex_flow": null,
            "grid_area": null,
            "grid_auto_columns": null,
            "grid_auto_flow": null,
            "grid_auto_rows": null,
            "grid_column": null,
            "grid_gap": null,
            "grid_row": null,
            "grid_template_areas": null,
            "grid_template_columns": null,
            "grid_template_rows": null,
            "height": null,
            "justify_content": null,
            "justify_items": null,
            "left": null,
            "margin": null,
            "max_height": null,
            "max_width": null,
            "min_height": null,
            "min_width": null,
            "object_fit": null,
            "object_position": null,
            "order": null,
            "overflow": null,
            "overflow_x": null,
            "overflow_y": null,
            "padding": null,
            "right": null,
            "top": null,
            "visibility": null,
            "width": null
          }
        },
        "3fb7c11427ee4a219a5bfb000876543b": {
          "model_module": "@jupyter-widgets/base",
          "model_name": "LayoutModel",
          "model_module_version": "1.2.0",
          "state": {
            "_model_module": "@jupyter-widgets/base",
            "_model_module_version": "1.2.0",
            "_model_name": "LayoutModel",
            "_view_count": null,
            "_view_module": "@jupyter-widgets/base",
            "_view_module_version": "1.2.0",
            "_view_name": "LayoutView",
            "align_content": null,
            "align_items": null,
            "align_self": null,
            "border": null,
            "bottom": null,
            "display": null,
            "flex": null,
            "flex_flow": null,
            "grid_area": null,
            "grid_auto_columns": null,
            "grid_auto_flow": null,
            "grid_auto_rows": null,
            "grid_column": null,
            "grid_gap": null,
            "grid_row": null,
            "grid_template_areas": null,
            "grid_template_columns": null,
            "grid_template_rows": null,
            "height": null,
            "justify_content": null,
            "justify_items": null,
            "left": null,
            "margin": null,
            "max_height": null,
            "max_width": null,
            "min_height": null,
            "min_width": null,
            "object_fit": null,
            "object_position": null,
            "order": null,
            "overflow": null,
            "overflow_x": null,
            "overflow_y": null,
            "padding": null,
            "right": null,
            "top": null,
            "visibility": null,
            "width": null
          }
        },
        "a36c4890efd34089b02a5bad7fd9ea8e": {
          "model_module": "@jupyter-widgets/controls",
          "model_name": "DescriptionStyleModel",
          "model_module_version": "1.5.0",
          "state": {
            "_model_module": "@jupyter-widgets/controls",
            "_model_module_version": "1.5.0",
            "_model_name": "DescriptionStyleModel",
            "_view_count": null,
            "_view_module": "@jupyter-widgets/base",
            "_view_module_version": "1.2.0",
            "_view_name": "StyleView",
            "description_width": ""
          }
        },
        "902e2814f7154bd3ab3bbdf7376b0b02": {
          "model_module": "@jupyter-widgets/base",
          "model_name": "LayoutModel",
          "model_module_version": "1.2.0",
          "state": {
            "_model_module": "@jupyter-widgets/base",
            "_model_module_version": "1.2.0",
            "_model_name": "LayoutModel",
            "_view_count": null,
            "_view_module": "@jupyter-widgets/base",
            "_view_module_version": "1.2.0",
            "_view_name": "LayoutView",
            "align_content": null,
            "align_items": null,
            "align_self": null,
            "border": null,
            "bottom": null,
            "display": null,
            "flex": null,
            "flex_flow": null,
            "grid_area": null,
            "grid_auto_columns": null,
            "grid_auto_flow": null,
            "grid_auto_rows": null,
            "grid_column": null,
            "grid_gap": null,
            "grid_row": null,
            "grid_template_areas": null,
            "grid_template_columns": null,
            "grid_template_rows": null,
            "height": null,
            "justify_content": null,
            "justify_items": null,
            "left": null,
            "margin": null,
            "max_height": null,
            "max_width": null,
            "min_height": null,
            "min_width": null,
            "object_fit": null,
            "object_position": null,
            "order": null,
            "overflow": null,
            "overflow_x": null,
            "overflow_y": null,
            "padding": null,
            "right": null,
            "top": null,
            "visibility": null,
            "width": null
          }
        },
        "44d229b2df184b44b867dd5fd4125cc6": {
          "model_module": "@jupyter-widgets/controls",
          "model_name": "ProgressStyleModel",
          "model_module_version": "1.5.0",
          "state": {
            "_model_module": "@jupyter-widgets/controls",
            "_model_module_version": "1.5.0",
            "_model_name": "ProgressStyleModel",
            "_view_count": null,
            "_view_module": "@jupyter-widgets/base",
            "_view_module_version": "1.2.0",
            "_view_name": "StyleView",
            "bar_color": null,
            "description_width": ""
          }
        },
        "53dcf2f51c9647b9b627389b35c804d4": {
          "model_module": "@jupyter-widgets/base",
          "model_name": "LayoutModel",
          "model_module_version": "1.2.0",
          "state": {
            "_model_module": "@jupyter-widgets/base",
            "_model_module_version": "1.2.0",
            "_model_name": "LayoutModel",
            "_view_count": null,
            "_view_module": "@jupyter-widgets/base",
            "_view_module_version": "1.2.0",
            "_view_name": "LayoutView",
            "align_content": null,
            "align_items": null,
            "align_self": null,
            "border": null,
            "bottom": null,
            "display": null,
            "flex": null,
            "flex_flow": null,
            "grid_area": null,
            "grid_auto_columns": null,
            "grid_auto_flow": null,
            "grid_auto_rows": null,
            "grid_column": null,
            "grid_gap": null,
            "grid_row": null,
            "grid_template_areas": null,
            "grid_template_columns": null,
            "grid_template_rows": null,
            "height": null,
            "justify_content": null,
            "justify_items": null,
            "left": null,
            "margin": null,
            "max_height": null,
            "max_width": null,
            "min_height": null,
            "min_width": null,
            "object_fit": null,
            "object_position": null,
            "order": null,
            "overflow": null,
            "overflow_x": null,
            "overflow_y": null,
            "padding": null,
            "right": null,
            "top": null,
            "visibility": null,
            "width": null
          }
        },
        "4fd231cb3d0a4ea18df5416715bf9521": {
          "model_module": "@jupyter-widgets/controls",
          "model_name": "DescriptionStyleModel",
          "model_module_version": "1.5.0",
          "state": {
            "_model_module": "@jupyter-widgets/controls",
            "_model_module_version": "1.5.0",
            "_model_name": "DescriptionStyleModel",
            "_view_count": null,
            "_view_module": "@jupyter-widgets/base",
            "_view_module_version": "1.2.0",
            "_view_name": "StyleView",
            "description_width": ""
          }
        },
        "26c07cdc08554839a80b27c83a190d75": {
          "model_module": "@jupyter-widgets/controls",
          "model_name": "HBoxModel",
          "model_module_version": "1.5.0",
          "state": {
            "_dom_classes": [],
            "_model_module": "@jupyter-widgets/controls",
            "_model_module_version": "1.5.0",
            "_model_name": "HBoxModel",
            "_view_count": null,
            "_view_module": "@jupyter-widgets/controls",
            "_view_module_version": "1.5.0",
            "_view_name": "HBoxView",
            "box_style": "",
            "children": [
              "IPY_MODEL_c6bfee14cdd743fda803af36b9bcf5a5",
              "IPY_MODEL_1aa19cb63dfd42c88c30ca9546d442ab",
              "IPY_MODEL_a0965756a50e4a03b0af061f5909df28"
            ],
            "layout": "IPY_MODEL_83196b2ee98e4af6a50f963e1aa48d36"
          }
        },
        "c6bfee14cdd743fda803af36b9bcf5a5": {
          "model_module": "@jupyter-widgets/controls",
          "model_name": "HTMLModel",
          "model_module_version": "1.5.0",
          "state": {
            "_dom_classes": [],
            "_model_module": "@jupyter-widgets/controls",
            "_model_module_version": "1.5.0",
            "_model_name": "HTMLModel",
            "_view_count": null,
            "_view_module": "@jupyter-widgets/controls",
            "_view_module_version": "1.5.0",
            "_view_name": "HTMLView",
            "description": "",
            "description_tooltip": null,
            "layout": "IPY_MODEL_f8cd74bfb94e48c6a59f7f707fa7b5ec",
            "placeholder": "​",
            "style": "IPY_MODEL_f8ad087196f14b9483a07dab5a21a802",
            "value": "100%"
          }
        },
        "1aa19cb63dfd42c88c30ca9546d442ab": {
          "model_module": "@jupyter-widgets/controls",
          "model_name": "FloatProgressModel",
          "model_module_version": "1.5.0",
          "state": {
            "_dom_classes": [],
            "_model_module": "@jupyter-widgets/controls",
            "_model_module_version": "1.5.0",
            "_model_name": "FloatProgressModel",
            "_view_count": null,
            "_view_module": "@jupyter-widgets/controls",
            "_view_module_version": "1.5.0",
            "_view_name": "ProgressView",
            "bar_style": "success",
            "description": "",
            "description_tooltip": null,
            "layout": "IPY_MODEL_b3b8be041a884a598b508325e107e14c",
            "max": 30000,
            "min": 0,
            "orientation": "horizontal",
            "style": "IPY_MODEL_6cfdc1e5fc4645fca5d0ca4b378f4c27",
            "value": 30000
          }
        },
        "a0965756a50e4a03b0af061f5909df28": {
          "model_module": "@jupyter-widgets/controls",
          "model_name": "HTMLModel",
          "model_module_version": "1.5.0",
          "state": {
            "_dom_classes": [],
            "_model_module": "@jupyter-widgets/controls",
            "_model_module_version": "1.5.0",
            "_model_name": "HTMLModel",
            "_view_count": null,
            "_view_module": "@jupyter-widgets/controls",
            "_view_module_version": "1.5.0",
            "_view_name": "HTMLView",
            "description": "",
            "description_tooltip": null,
            "layout": "IPY_MODEL_248af3cb99b540478ff3e974bb189488",
            "placeholder": "​",
            "style": "IPY_MODEL_e051ceba191a409487af4ca28d5ed476",
            "value": " 30000/30000 [19:14&lt;00:00, 29.21it/s]"
          }
        },
        "83196b2ee98e4af6a50f963e1aa48d36": {
          "model_module": "@jupyter-widgets/base",
          "model_name": "LayoutModel",
          "model_module_version": "1.2.0",
          "state": {
            "_model_module": "@jupyter-widgets/base",
            "_model_module_version": "1.2.0",
            "_model_name": "LayoutModel",
            "_view_count": null,
            "_view_module": "@jupyter-widgets/base",
            "_view_module_version": "1.2.0",
            "_view_name": "LayoutView",
            "align_content": null,
            "align_items": null,
            "align_self": null,
            "border": null,
            "bottom": null,
            "display": null,
            "flex": null,
            "flex_flow": null,
            "grid_area": null,
            "grid_auto_columns": null,
            "grid_auto_flow": null,
            "grid_auto_rows": null,
            "grid_column": null,
            "grid_gap": null,
            "grid_row": null,
            "grid_template_areas": null,
            "grid_template_columns": null,
            "grid_template_rows": null,
            "height": null,
            "justify_content": null,
            "justify_items": null,
            "left": null,
            "margin": null,
            "max_height": null,
            "max_width": null,
            "min_height": null,
            "min_width": null,
            "object_fit": null,
            "object_position": null,
            "order": null,
            "overflow": null,
            "overflow_x": null,
            "overflow_y": null,
            "padding": null,
            "right": null,
            "top": null,
            "visibility": null,
            "width": null
          }
        },
        "f8cd74bfb94e48c6a59f7f707fa7b5ec": {
          "model_module": "@jupyter-widgets/base",
          "model_name": "LayoutModel",
          "model_module_version": "1.2.0",
          "state": {
            "_model_module": "@jupyter-widgets/base",
            "_model_module_version": "1.2.0",
            "_model_name": "LayoutModel",
            "_view_count": null,
            "_view_module": "@jupyter-widgets/base",
            "_view_module_version": "1.2.0",
            "_view_name": "LayoutView",
            "align_content": null,
            "align_items": null,
            "align_self": null,
            "border": null,
            "bottom": null,
            "display": null,
            "flex": null,
            "flex_flow": null,
            "grid_area": null,
            "grid_auto_columns": null,
            "grid_auto_flow": null,
            "grid_auto_rows": null,
            "grid_column": null,
            "grid_gap": null,
            "grid_row": null,
            "grid_template_areas": null,
            "grid_template_columns": null,
            "grid_template_rows": null,
            "height": null,
            "justify_content": null,
            "justify_items": null,
            "left": null,
            "margin": null,
            "max_height": null,
            "max_width": null,
            "min_height": null,
            "min_width": null,
            "object_fit": null,
            "object_position": null,
            "order": null,
            "overflow": null,
            "overflow_x": null,
            "overflow_y": null,
            "padding": null,
            "right": null,
            "top": null,
            "visibility": null,
            "width": null
          }
        },
        "f8ad087196f14b9483a07dab5a21a802": {
          "model_module": "@jupyter-widgets/controls",
          "model_name": "DescriptionStyleModel",
          "model_module_version": "1.5.0",
          "state": {
            "_model_module": "@jupyter-widgets/controls",
            "_model_module_version": "1.5.0",
            "_model_name": "DescriptionStyleModel",
            "_view_count": null,
            "_view_module": "@jupyter-widgets/base",
            "_view_module_version": "1.2.0",
            "_view_name": "StyleView",
            "description_width": ""
          }
        },
        "b3b8be041a884a598b508325e107e14c": {
          "model_module": "@jupyter-widgets/base",
          "model_name": "LayoutModel",
          "model_module_version": "1.2.0",
          "state": {
            "_model_module": "@jupyter-widgets/base",
            "_model_module_version": "1.2.0",
            "_model_name": "LayoutModel",
            "_view_count": null,
            "_view_module": "@jupyter-widgets/base",
            "_view_module_version": "1.2.0",
            "_view_name": "LayoutView",
            "align_content": null,
            "align_items": null,
            "align_self": null,
            "border": null,
            "bottom": null,
            "display": null,
            "flex": null,
            "flex_flow": null,
            "grid_area": null,
            "grid_auto_columns": null,
            "grid_auto_flow": null,
            "grid_auto_rows": null,
            "grid_column": null,
            "grid_gap": null,
            "grid_row": null,
            "grid_template_areas": null,
            "grid_template_columns": null,
            "grid_template_rows": null,
            "height": null,
            "justify_content": null,
            "justify_items": null,
            "left": null,
            "margin": null,
            "max_height": null,
            "max_width": null,
            "min_height": null,
            "min_width": null,
            "object_fit": null,
            "object_position": null,
            "order": null,
            "overflow": null,
            "overflow_x": null,
            "overflow_y": null,
            "padding": null,
            "right": null,
            "top": null,
            "visibility": null,
            "width": null
          }
        },
        "6cfdc1e5fc4645fca5d0ca4b378f4c27": {
          "model_module": "@jupyter-widgets/controls",
          "model_name": "ProgressStyleModel",
          "model_module_version": "1.5.0",
          "state": {
            "_model_module": "@jupyter-widgets/controls",
            "_model_module_version": "1.5.0",
            "_model_name": "ProgressStyleModel",
            "_view_count": null,
            "_view_module": "@jupyter-widgets/base",
            "_view_module_version": "1.2.0",
            "_view_name": "StyleView",
            "bar_color": null,
            "description_width": ""
          }
        },
        "248af3cb99b540478ff3e974bb189488": {
          "model_module": "@jupyter-widgets/base",
          "model_name": "LayoutModel",
          "model_module_version": "1.2.0",
          "state": {
            "_model_module": "@jupyter-widgets/base",
            "_model_module_version": "1.2.0",
            "_model_name": "LayoutModel",
            "_view_count": null,
            "_view_module": "@jupyter-widgets/base",
            "_view_module_version": "1.2.0",
            "_view_name": "LayoutView",
            "align_content": null,
            "align_items": null,
            "align_self": null,
            "border": null,
            "bottom": null,
            "display": null,
            "flex": null,
            "flex_flow": null,
            "grid_area": null,
            "grid_auto_columns": null,
            "grid_auto_flow": null,
            "grid_auto_rows": null,
            "grid_column": null,
            "grid_gap": null,
            "grid_row": null,
            "grid_template_areas": null,
            "grid_template_columns": null,
            "grid_template_rows": null,
            "height": null,
            "justify_content": null,
            "justify_items": null,
            "left": null,
            "margin": null,
            "max_height": null,
            "max_width": null,
            "min_height": null,
            "min_width": null,
            "object_fit": null,
            "object_position": null,
            "order": null,
            "overflow": null,
            "overflow_x": null,
            "overflow_y": null,
            "padding": null,
            "right": null,
            "top": null,
            "visibility": null,
            "width": null
          }
        },
        "e051ceba191a409487af4ca28d5ed476": {
          "model_module": "@jupyter-widgets/controls",
          "model_name": "DescriptionStyleModel",
          "model_module_version": "1.5.0",
          "state": {
            "_model_module": "@jupyter-widgets/controls",
            "_model_module_version": "1.5.0",
            "_model_name": "DescriptionStyleModel",
            "_view_count": null,
            "_view_module": "@jupyter-widgets/base",
            "_view_module_version": "1.2.0",
            "_view_name": "StyleView",
            "description_width": ""
          }
        },
        "a6ebc68d32954104b4f65a05a91ac682": {
          "model_module": "@jupyter-widgets/controls",
          "model_name": "HBoxModel",
          "model_module_version": "1.5.0",
          "state": {
            "_dom_classes": [],
            "_model_module": "@jupyter-widgets/controls",
            "_model_module_version": "1.5.0",
            "_model_name": "HBoxModel",
            "_view_count": null,
            "_view_module": "@jupyter-widgets/controls",
            "_view_module_version": "1.5.0",
            "_view_name": "HBoxView",
            "box_style": "",
            "children": [
              "IPY_MODEL_75fa4f926aa1450db118f68eee00215f",
              "IPY_MODEL_1ca684ded75f4125bf180f240d42ba78",
              "IPY_MODEL_f70def2940724d37ac646faa72c25188"
            ],
            "layout": "IPY_MODEL_bd3178337295478791d5f94d9bc4949b"
          }
        },
        "75fa4f926aa1450db118f68eee00215f": {
          "model_module": "@jupyter-widgets/controls",
          "model_name": "HTMLModel",
          "model_module_version": "1.5.0",
          "state": {
            "_dom_classes": [],
            "_model_module": "@jupyter-widgets/controls",
            "_model_module_version": "1.5.0",
            "_model_name": "HTMLModel",
            "_view_count": null,
            "_view_module": "@jupyter-widgets/controls",
            "_view_module_version": "1.5.0",
            "_view_name": "HTMLView",
            "description": "",
            "description_tooltip": null,
            "layout": "IPY_MODEL_c41951b39521490a97165b3afa1a2518",
            "placeholder": "​",
            "style": "IPY_MODEL_09810c58b00e445ab6be5091b50bb4dd",
            "value": "100%"
          }
        },
        "1ca684ded75f4125bf180f240d42ba78": {
          "model_module": "@jupyter-widgets/controls",
          "model_name": "FloatProgressModel",
          "model_module_version": "1.5.0",
          "state": {
            "_dom_classes": [],
            "_model_module": "@jupyter-widgets/controls",
            "_model_module_version": "1.5.0",
            "_model_name": "FloatProgressModel",
            "_view_count": null,
            "_view_module": "@jupyter-widgets/controls",
            "_view_module_version": "1.5.0",
            "_view_name": "ProgressView",
            "bar_style": "success",
            "description": "",
            "description_tooltip": null,
            "layout": "IPY_MODEL_e783022a6afd4aef8b81b0ba1102a775",
            "max": 30000,
            "min": 0,
            "orientation": "horizontal",
            "style": "IPY_MODEL_7aa2bee407af4dac900b8f09ebe9be73",
            "value": 30000
          }
        },
        "f70def2940724d37ac646faa72c25188": {
          "model_module": "@jupyter-widgets/controls",
          "model_name": "HTMLModel",
          "model_module_version": "1.5.0",
          "state": {
            "_dom_classes": [],
            "_model_module": "@jupyter-widgets/controls",
            "_model_module_version": "1.5.0",
            "_model_name": "HTMLModel",
            "_view_count": null,
            "_view_module": "@jupyter-widgets/controls",
            "_view_module_version": "1.5.0",
            "_view_name": "HTMLView",
            "description": "",
            "description_tooltip": null,
            "layout": "IPY_MODEL_8824fb8ce26a4dc0ab86eb38205dbc7c",
            "placeholder": "​",
            "style": "IPY_MODEL_8c49876ceb214d669c58217c33fc45a7",
            "value": " 30000/30000 [14:38&lt;00:00, 31.99it/s]"
          }
        },
        "bd3178337295478791d5f94d9bc4949b": {
          "model_module": "@jupyter-widgets/base",
          "model_name": "LayoutModel",
          "model_module_version": "1.2.0",
          "state": {
            "_model_module": "@jupyter-widgets/base",
            "_model_module_version": "1.2.0",
            "_model_name": "LayoutModel",
            "_view_count": null,
            "_view_module": "@jupyter-widgets/base",
            "_view_module_version": "1.2.0",
            "_view_name": "LayoutView",
            "align_content": null,
            "align_items": null,
            "align_self": null,
            "border": null,
            "bottom": null,
            "display": null,
            "flex": null,
            "flex_flow": null,
            "grid_area": null,
            "grid_auto_columns": null,
            "grid_auto_flow": null,
            "grid_auto_rows": null,
            "grid_column": null,
            "grid_gap": null,
            "grid_row": null,
            "grid_template_areas": null,
            "grid_template_columns": null,
            "grid_template_rows": null,
            "height": null,
            "justify_content": null,
            "justify_items": null,
            "left": null,
            "margin": null,
            "max_height": null,
            "max_width": null,
            "min_height": null,
            "min_width": null,
            "object_fit": null,
            "object_position": null,
            "order": null,
            "overflow": null,
            "overflow_x": null,
            "overflow_y": null,
            "padding": null,
            "right": null,
            "top": null,
            "visibility": null,
            "width": null
          }
        },
        "c41951b39521490a97165b3afa1a2518": {
          "model_module": "@jupyter-widgets/base",
          "model_name": "LayoutModel",
          "model_module_version": "1.2.0",
          "state": {
            "_model_module": "@jupyter-widgets/base",
            "_model_module_version": "1.2.0",
            "_model_name": "LayoutModel",
            "_view_count": null,
            "_view_module": "@jupyter-widgets/base",
            "_view_module_version": "1.2.0",
            "_view_name": "LayoutView",
            "align_content": null,
            "align_items": null,
            "align_self": null,
            "border": null,
            "bottom": null,
            "display": null,
            "flex": null,
            "flex_flow": null,
            "grid_area": null,
            "grid_auto_columns": null,
            "grid_auto_flow": null,
            "grid_auto_rows": null,
            "grid_column": null,
            "grid_gap": null,
            "grid_row": null,
            "grid_template_areas": null,
            "grid_template_columns": null,
            "grid_template_rows": null,
            "height": null,
            "justify_content": null,
            "justify_items": null,
            "left": null,
            "margin": null,
            "max_height": null,
            "max_width": null,
            "min_height": null,
            "min_width": null,
            "object_fit": null,
            "object_position": null,
            "order": null,
            "overflow": null,
            "overflow_x": null,
            "overflow_y": null,
            "padding": null,
            "right": null,
            "top": null,
            "visibility": null,
            "width": null
          }
        },
        "09810c58b00e445ab6be5091b50bb4dd": {
          "model_module": "@jupyter-widgets/controls",
          "model_name": "DescriptionStyleModel",
          "model_module_version": "1.5.0",
          "state": {
            "_model_module": "@jupyter-widgets/controls",
            "_model_module_version": "1.5.0",
            "_model_name": "DescriptionStyleModel",
            "_view_count": null,
            "_view_module": "@jupyter-widgets/base",
            "_view_module_version": "1.2.0",
            "_view_name": "StyleView",
            "description_width": ""
          }
        },
        "e783022a6afd4aef8b81b0ba1102a775": {
          "model_module": "@jupyter-widgets/base",
          "model_name": "LayoutModel",
          "model_module_version": "1.2.0",
          "state": {
            "_model_module": "@jupyter-widgets/base",
            "_model_module_version": "1.2.0",
            "_model_name": "LayoutModel",
            "_view_count": null,
            "_view_module": "@jupyter-widgets/base",
            "_view_module_version": "1.2.0",
            "_view_name": "LayoutView",
            "align_content": null,
            "align_items": null,
            "align_self": null,
            "border": null,
            "bottom": null,
            "display": null,
            "flex": null,
            "flex_flow": null,
            "grid_area": null,
            "grid_auto_columns": null,
            "grid_auto_flow": null,
            "grid_auto_rows": null,
            "grid_column": null,
            "grid_gap": null,
            "grid_row": null,
            "grid_template_areas": null,
            "grid_template_columns": null,
            "grid_template_rows": null,
            "height": null,
            "justify_content": null,
            "justify_items": null,
            "left": null,
            "margin": null,
            "max_height": null,
            "max_width": null,
            "min_height": null,
            "min_width": null,
            "object_fit": null,
            "object_position": null,
            "order": null,
            "overflow": null,
            "overflow_x": null,
            "overflow_y": null,
            "padding": null,
            "right": null,
            "top": null,
            "visibility": null,
            "width": null
          }
        },
        "7aa2bee407af4dac900b8f09ebe9be73": {
          "model_module": "@jupyter-widgets/controls",
          "model_name": "ProgressStyleModel",
          "model_module_version": "1.5.0",
          "state": {
            "_model_module": "@jupyter-widgets/controls",
            "_model_module_version": "1.5.0",
            "_model_name": "ProgressStyleModel",
            "_view_count": null,
            "_view_module": "@jupyter-widgets/base",
            "_view_module_version": "1.2.0",
            "_view_name": "StyleView",
            "bar_color": null,
            "description_width": ""
          }
        },
        "8824fb8ce26a4dc0ab86eb38205dbc7c": {
          "model_module": "@jupyter-widgets/base",
          "model_name": "LayoutModel",
          "model_module_version": "1.2.0",
          "state": {
            "_model_module": "@jupyter-widgets/base",
            "_model_module_version": "1.2.0",
            "_model_name": "LayoutModel",
            "_view_count": null,
            "_view_module": "@jupyter-widgets/base",
            "_view_module_version": "1.2.0",
            "_view_name": "LayoutView",
            "align_content": null,
            "align_items": null,
            "align_self": null,
            "border": null,
            "bottom": null,
            "display": null,
            "flex": null,
            "flex_flow": null,
            "grid_area": null,
            "grid_auto_columns": null,
            "grid_auto_flow": null,
            "grid_auto_rows": null,
            "grid_column": null,
            "grid_gap": null,
            "grid_row": null,
            "grid_template_areas": null,
            "grid_template_columns": null,
            "grid_template_rows": null,
            "height": null,
            "justify_content": null,
            "justify_items": null,
            "left": null,
            "margin": null,
            "max_height": null,
            "max_width": null,
            "min_height": null,
            "min_width": null,
            "object_fit": null,
            "object_position": null,
            "order": null,
            "overflow": null,
            "overflow_x": null,
            "overflow_y": null,
            "padding": null,
            "right": null,
            "top": null,
            "visibility": null,
            "width": null
          }
        },
        "8c49876ceb214d669c58217c33fc45a7": {
          "model_module": "@jupyter-widgets/controls",
          "model_name": "DescriptionStyleModel",
          "model_module_version": "1.5.0",
          "state": {
            "_model_module": "@jupyter-widgets/controls",
            "_model_module_version": "1.5.0",
            "_model_name": "DescriptionStyleModel",
            "_view_count": null,
            "_view_module": "@jupyter-widgets/base",
            "_view_module_version": "1.2.0",
            "_view_name": "StyleView",
            "description_width": ""
          }
        },
        "eab8be3d2a8b49f39746c0ed85199c60": {
          "model_module": "@jupyter-widgets/controls",
          "model_name": "HBoxModel",
          "model_module_version": "1.5.0",
          "state": {
            "_dom_classes": [],
            "_model_module": "@jupyter-widgets/controls",
            "_model_module_version": "1.5.0",
            "_model_name": "HBoxModel",
            "_view_count": null,
            "_view_module": "@jupyter-widgets/controls",
            "_view_module_version": "1.5.0",
            "_view_name": "HBoxView",
            "box_style": "",
            "children": [
              "IPY_MODEL_0dad0c3296664294afaa9c3519bb939f",
              "IPY_MODEL_193217bc70704539bd07dab6eedd63b7",
              "IPY_MODEL_395aa089c1864783ab141b7afadf0255"
            ],
            "layout": "IPY_MODEL_7836e702623d4663924e96ab32180b89"
          }
        },
        "0dad0c3296664294afaa9c3519bb939f": {
          "model_module": "@jupyter-widgets/controls",
          "model_name": "HTMLModel",
          "model_module_version": "1.5.0",
          "state": {
            "_dom_classes": [],
            "_model_module": "@jupyter-widgets/controls",
            "_model_module_version": "1.5.0",
            "_model_name": "HTMLModel",
            "_view_count": null,
            "_view_module": "@jupyter-widgets/controls",
            "_view_module_version": "1.5.0",
            "_view_name": "HTMLView",
            "description": "",
            "description_tooltip": null,
            "layout": "IPY_MODEL_9f0b45ec9fc84530b9ced87a1bc1a5a6",
            "placeholder": "​",
            "style": "IPY_MODEL_0333568876c746a9a37729aea274e39b",
            "value": "100%"
          }
        },
        "193217bc70704539bd07dab6eedd63b7": {
          "model_module": "@jupyter-widgets/controls",
          "model_name": "FloatProgressModel",
          "model_module_version": "1.5.0",
          "state": {
            "_dom_classes": [],
            "_model_module": "@jupyter-widgets/controls",
            "_model_module_version": "1.5.0",
            "_model_name": "FloatProgressModel",
            "_view_count": null,
            "_view_module": "@jupyter-widgets/controls",
            "_view_module_version": "1.5.0",
            "_view_name": "ProgressView",
            "bar_style": "success",
            "description": "",
            "description_tooltip": null,
            "layout": "IPY_MODEL_ca4f1259105544fcb1c5ee2813ff65a4",
            "max": 30000,
            "min": 0,
            "orientation": "horizontal",
            "style": "IPY_MODEL_6d86d181faa64cf4adb432e197ca17b9",
            "value": 30000
          }
        },
        "395aa089c1864783ab141b7afadf0255": {
          "model_module": "@jupyter-widgets/controls",
          "model_name": "HTMLModel",
          "model_module_version": "1.5.0",
          "state": {
            "_dom_classes": [],
            "_model_module": "@jupyter-widgets/controls",
            "_model_module_version": "1.5.0",
            "_model_name": "HTMLModel",
            "_view_count": null,
            "_view_module": "@jupyter-widgets/controls",
            "_view_module_version": "1.5.0",
            "_view_name": "HTMLView",
            "description": "",
            "description_tooltip": null,
            "layout": "IPY_MODEL_04e87673ca3d4937b0a8f6cf3102f16c",
            "placeholder": "​",
            "style": "IPY_MODEL_8d57ccc57e7f4c0da87a0b63405d9515",
            "value": " 30000/30000 [22:56&lt;00:00, 21.96it/s]"
          }
        },
        "7836e702623d4663924e96ab32180b89": {
          "model_module": "@jupyter-widgets/base",
          "model_name": "LayoutModel",
          "model_module_version": "1.2.0",
          "state": {
            "_model_module": "@jupyter-widgets/base",
            "_model_module_version": "1.2.0",
            "_model_name": "LayoutModel",
            "_view_count": null,
            "_view_module": "@jupyter-widgets/base",
            "_view_module_version": "1.2.0",
            "_view_name": "LayoutView",
            "align_content": null,
            "align_items": null,
            "align_self": null,
            "border": null,
            "bottom": null,
            "display": null,
            "flex": null,
            "flex_flow": null,
            "grid_area": null,
            "grid_auto_columns": null,
            "grid_auto_flow": null,
            "grid_auto_rows": null,
            "grid_column": null,
            "grid_gap": null,
            "grid_row": null,
            "grid_template_areas": null,
            "grid_template_columns": null,
            "grid_template_rows": null,
            "height": null,
            "justify_content": null,
            "justify_items": null,
            "left": null,
            "margin": null,
            "max_height": null,
            "max_width": null,
            "min_height": null,
            "min_width": null,
            "object_fit": null,
            "object_position": null,
            "order": null,
            "overflow": null,
            "overflow_x": null,
            "overflow_y": null,
            "padding": null,
            "right": null,
            "top": null,
            "visibility": null,
            "width": null
          }
        },
        "9f0b45ec9fc84530b9ced87a1bc1a5a6": {
          "model_module": "@jupyter-widgets/base",
          "model_name": "LayoutModel",
          "model_module_version": "1.2.0",
          "state": {
            "_model_module": "@jupyter-widgets/base",
            "_model_module_version": "1.2.0",
            "_model_name": "LayoutModel",
            "_view_count": null,
            "_view_module": "@jupyter-widgets/base",
            "_view_module_version": "1.2.0",
            "_view_name": "LayoutView",
            "align_content": null,
            "align_items": null,
            "align_self": null,
            "border": null,
            "bottom": null,
            "display": null,
            "flex": null,
            "flex_flow": null,
            "grid_area": null,
            "grid_auto_columns": null,
            "grid_auto_flow": null,
            "grid_auto_rows": null,
            "grid_column": null,
            "grid_gap": null,
            "grid_row": null,
            "grid_template_areas": null,
            "grid_template_columns": null,
            "grid_template_rows": null,
            "height": null,
            "justify_content": null,
            "justify_items": null,
            "left": null,
            "margin": null,
            "max_height": null,
            "max_width": null,
            "min_height": null,
            "min_width": null,
            "object_fit": null,
            "object_position": null,
            "order": null,
            "overflow": null,
            "overflow_x": null,
            "overflow_y": null,
            "padding": null,
            "right": null,
            "top": null,
            "visibility": null,
            "width": null
          }
        },
        "0333568876c746a9a37729aea274e39b": {
          "model_module": "@jupyter-widgets/controls",
          "model_name": "DescriptionStyleModel",
          "model_module_version": "1.5.0",
          "state": {
            "_model_module": "@jupyter-widgets/controls",
            "_model_module_version": "1.5.0",
            "_model_name": "DescriptionStyleModel",
            "_view_count": null,
            "_view_module": "@jupyter-widgets/base",
            "_view_module_version": "1.2.0",
            "_view_name": "StyleView",
            "description_width": ""
          }
        },
        "ca4f1259105544fcb1c5ee2813ff65a4": {
          "model_module": "@jupyter-widgets/base",
          "model_name": "LayoutModel",
          "model_module_version": "1.2.0",
          "state": {
            "_model_module": "@jupyter-widgets/base",
            "_model_module_version": "1.2.0",
            "_model_name": "LayoutModel",
            "_view_count": null,
            "_view_module": "@jupyter-widgets/base",
            "_view_module_version": "1.2.0",
            "_view_name": "LayoutView",
            "align_content": null,
            "align_items": null,
            "align_self": null,
            "border": null,
            "bottom": null,
            "display": null,
            "flex": null,
            "flex_flow": null,
            "grid_area": null,
            "grid_auto_columns": null,
            "grid_auto_flow": null,
            "grid_auto_rows": null,
            "grid_column": null,
            "grid_gap": null,
            "grid_row": null,
            "grid_template_areas": null,
            "grid_template_columns": null,
            "grid_template_rows": null,
            "height": null,
            "justify_content": null,
            "justify_items": null,
            "left": null,
            "margin": null,
            "max_height": null,
            "max_width": null,
            "min_height": null,
            "min_width": null,
            "object_fit": null,
            "object_position": null,
            "order": null,
            "overflow": null,
            "overflow_x": null,
            "overflow_y": null,
            "padding": null,
            "right": null,
            "top": null,
            "visibility": null,
            "width": null
          }
        },
        "6d86d181faa64cf4adb432e197ca17b9": {
          "model_module": "@jupyter-widgets/controls",
          "model_name": "ProgressStyleModel",
          "model_module_version": "1.5.0",
          "state": {
            "_model_module": "@jupyter-widgets/controls",
            "_model_module_version": "1.5.0",
            "_model_name": "ProgressStyleModel",
            "_view_count": null,
            "_view_module": "@jupyter-widgets/base",
            "_view_module_version": "1.2.0",
            "_view_name": "StyleView",
            "bar_color": null,
            "description_width": ""
          }
        },
        "04e87673ca3d4937b0a8f6cf3102f16c": {
          "model_module": "@jupyter-widgets/base",
          "model_name": "LayoutModel",
          "model_module_version": "1.2.0",
          "state": {
            "_model_module": "@jupyter-widgets/base",
            "_model_module_version": "1.2.0",
            "_model_name": "LayoutModel",
            "_view_count": null,
            "_view_module": "@jupyter-widgets/base",
            "_view_module_version": "1.2.0",
            "_view_name": "LayoutView",
            "align_content": null,
            "align_items": null,
            "align_self": null,
            "border": null,
            "bottom": null,
            "display": null,
            "flex": null,
            "flex_flow": null,
            "grid_area": null,
            "grid_auto_columns": null,
            "grid_auto_flow": null,
            "grid_auto_rows": null,
            "grid_column": null,
            "grid_gap": null,
            "grid_row": null,
            "grid_template_areas": null,
            "grid_template_columns": null,
            "grid_template_rows": null,
            "height": null,
            "justify_content": null,
            "justify_items": null,
            "left": null,
            "margin": null,
            "max_height": null,
            "max_width": null,
            "min_height": null,
            "min_width": null,
            "object_fit": null,
            "object_position": null,
            "order": null,
            "overflow": null,
            "overflow_x": null,
            "overflow_y": null,
            "padding": null,
            "right": null,
            "top": null,
            "visibility": null,
            "width": null
          }
        },
        "8d57ccc57e7f4c0da87a0b63405d9515": {
          "model_module": "@jupyter-widgets/controls",
          "model_name": "DescriptionStyleModel",
          "model_module_version": "1.5.0",
          "state": {
            "_model_module": "@jupyter-widgets/controls",
            "_model_module_version": "1.5.0",
            "_model_name": "DescriptionStyleModel",
            "_view_count": null,
            "_view_module": "@jupyter-widgets/base",
            "_view_module_version": "1.2.0",
            "_view_name": "StyleView",
            "description_width": ""
          }
        }
      }
    }
  },
  "nbformat": 4,
  "nbformat_minor": 0
}